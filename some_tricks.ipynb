{
  "nbformat": 4,
  "nbformat_minor": 0,
  "metadata": {
    "colab": {
      "name": "some_tricks.py",
      "provenance": [],
      "collapsed_sections": [],
      "authorship_tag": "ABX9TyModYk2fyYVfYEvJGtDckI1",
      "include_colab_link": true
    },
    "kernelspec": {
      "name": "python3",
      "display_name": "Python 3"
    },
    "language_info": {
      "name": "python"
    }
  },
  "cells": [
    {
      "cell_type": "markdown",
      "metadata": {
        "id": "view-in-github",
        "colab_type": "text"
      },
      "source": [
        "<a href=\"https://colab.research.google.com/github/ShakilM26/python-is-cool/blob/main/some_tricks.ipynb\" target=\"_parent\"><img src=\"https://colab.research.google.com/assets/colab-badge.svg\" alt=\"Open In Colab\"/></a>"
      ]
    },
    {
      "cell_type": "code",
      "execution_count": null,
      "metadata": {
        "id": "gJE0Ao-saYsq",
        "colab": {
          "base_uri": "https://localhost:8080/"
        },
        "outputId": "f87353e9-dc9b-4fae-9579-8a04a7d8f17e"
      },
      "outputs": [
        {
          "output_type": "stream",
          "name": "stdout",
          "text": [
            "Peter : Data Scientist\n",
            "Olivia : ML Engineer\n",
            "Max : Web Developer\n"
          ]
        }
      ],
      "source": [
        "# Zip in Python\n",
        "\n",
        "a=['Peter', 'Olivia', 'Max']\n",
        "b=['Data Scientist', 'ML Engineer', 'Web Developer']\n",
        "\n",
        "for a,b in zip(a,b):\n",
        "  print(a, ':', b)"
      ]
    },
    {
      "cell_type": "code",
      "source": [
        "# Read CSV file \n",
        "\n",
        "import csv\n",
        "\n",
        "with open('apple stock price.csv', 'r') as file:\n",
        "  r=csv.reader(file)\n",
        "\n",
        "  for row in r:\n",
        "    print(row)"
      ],
      "metadata": {
        "id": "ZcX6adYNac37",
        "colab": {
          "base_uri": "https://localhost:8080/"
        },
        "outputId": "8afa60d2-cf8b-4ff0-acbb-3cfade8984e3"
      },
      "execution_count": 1,
      "outputs": [
        {
          "output_type": "stream",
          "name": "stdout",
          "text": [
            "['Date', ' Open', ' High', ' Low', ' Close', ' Volume']\n",
            "['10/26/21', ' 149.33', ' 150.84', ' 149.0101', ' 149.32', ' 60893398']\n",
            "['10/25/21', ' 148.68', ' 149.37', ' 147.6211', ' 148.64', ' 50720559']\n",
            "['10/22/21', ' 149.69', ' 150.18', ' 148.64', ' 148.69', ' 58883441']\n",
            "['10/21/21', ' 148.81', ' 149.64', ' 147.87', ' 149.48', ' 61420992']\n",
            "['10/20/21', ' 148.70', ' 149.7539', ' 148.12', ' 149.26', ' 58418793']\n",
            "['10/19/21', ' 147.01', ' 149.17', ' 146.55', ' 148.76', ' 76378891']\n",
            "['10/18/21', ' 143.445', ' 146.84', ' 143.16', ' 146.55', ' 85589188']\n",
            "['10/15/21', ' 143.77', ' 144.895', ' 143.51', ' 144.84', ' 67940328']\n",
            "['10/14/21', ' 142.11', ' 143.88', ' 141.51', ' 143.76', ' 69907102']\n"
          ]
        }
      ]
    },
    {
      "cell_type": "code",
      "source": [
        "# Extract numbers from text\n",
        "\n",
        "text='slss0sf1ss7fssf5s8s6d4ssfs22dfs9fss1dd'\n",
        "\n",
        "import re\n",
        "find=re.findall('[0-9]', text)\n",
        "print(''.join(find))"
      ],
      "metadata": {
        "colab": {
          "base_uri": "https://localhost:8080/"
        },
        "id": "DVNIalFsap8l",
        "outputId": "2a231460-55b2-4f0b-c937-e1a92c7cf2dd"
      },
      "execution_count": null,
      "outputs": [
        {
          "output_type": "stream",
          "name": "stdout",
          "text": [
            "01758642291\n"
          ]
        }
      ]
    },
    {
      "cell_type": "code",
      "source": [
        ""
      ],
      "metadata": {
        "id": "Z4B5imZIap_d"
      },
      "execution_count": null,
      "outputs": []
    },
    {
      "cell_type": "code",
      "source": [
        ""
      ],
      "metadata": {
        "id": "Am0-1CK4aqCm"
      },
      "execution_count": null,
      "outputs": []
    },
    {
      "cell_type": "code",
      "source": [
        ""
      ],
      "metadata": {
        "id": "-sGu7WXyaqFP"
      },
      "execution_count": null,
      "outputs": []
    },
    {
      "cell_type": "code",
      "source": [
        ""
      ],
      "metadata": {
        "id": "s3Hz-aWodZj_"
      },
      "execution_count": null,
      "outputs": []
    },
    {
      "cell_type": "code",
      "source": [
        ""
      ],
      "metadata": {
        "id": "CX-4VjyBaqIg"
      },
      "execution_count": null,
      "outputs": []
    },
    {
      "cell_type": "code",
      "source": [
        ""
      ],
      "metadata": {
        "id": "SfAYxD0DaqLJ"
      },
      "execution_count": null,
      "outputs": []
    },
    {
      "cell_type": "code",
      "source": [
        ""
      ],
      "metadata": {
        "id": "n8vsRgOZaqNv"
      },
      "execution_count": null,
      "outputs": []
    }
  ]
}