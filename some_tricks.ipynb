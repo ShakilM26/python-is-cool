{
  "nbformat": 4,
  "nbformat_minor": 0,
  "metadata": {
    "colab": {
      "name": "some_tricks.py",
      "provenance": [],
      "collapsed_sections": [],
      "authorship_tag": "ABX9TyM/B9TroPVuyc22bvMqaS/6",
      "include_colab_link": true
    },
    "kernelspec": {
      "name": "python3",
      "display_name": "Python 3"
    },
    "language_info": {
      "name": "python"
    }
  },
  "cells": [
    {
      "cell_type": "markdown",
      "metadata": {
        "id": "view-in-github",
        "colab_type": "text"
      },
      "source": [
        "<a href=\"https://colab.research.google.com/github/ShakilM26/python-is-cool/blob/main/some_tricks.ipynb\" target=\"_parent\"><img src=\"https://colab.research.google.com/assets/colab-badge.svg\" alt=\"Open In Colab\"/></a>"
      ]
    },
    {
      "cell_type": "code",
      "execution_count": null,
      "metadata": {
        "id": "gJE0Ao-saYsq",
        "colab": {
          "base_uri": "https://localhost:8080/"
        },
        "outputId": "f87353e9-dc9b-4fae-9579-8a04a7d8f17e"
      },
      "outputs": [
        {
          "output_type": "stream",
          "name": "stdout",
          "text": [
            "Peter : Data Scientist\n",
            "Olivia : ML Engineer\n",
            "Max : Web Developer\n"
          ]
        }
      ],
      "source": [
        "# Zip in Python\n",
        "\n",
        "a=['Peter', 'Olivia', 'Max']\n",
        "b=['Data Scientist', 'ML Engineer', 'Web Developer']\n",
        "\n",
        "for a,b in zip(a,b):\n",
        "  print(a, ':', b)"
      ]
    },
    {
      "cell_type": "code",
      "source": [
        "# Read CSV file \n",
        "\n",
        "import csv\n",
        "\n",
        "with open('apple stock price.csv', 'r') as file:\n",
        "  r=csv.reader(file)\n",
        "\n",
        "  for row in r:\n",
        "    print(row)"
      ],
      "metadata": {
        "id": "ZcX6adYNac37",
        "colab": {
          "base_uri": "https://localhost:8080/"
        },
        "outputId": "8afa60d2-cf8b-4ff0-acbb-3cfade8984e3"
      },
      "execution_count": null,
      "outputs": [
        {
          "output_type": "stream",
          "name": "stdout",
          "text": [
            "['Date', ' Open', ' High', ' Low', ' Close', ' Volume']\n",
            "['10/26/21', ' 149.33', ' 150.84', ' 149.0101', ' 149.32', ' 60893398']\n",
            "['10/25/21', ' 148.68', ' 149.37', ' 147.6211', ' 148.64', ' 50720559']\n",
            "['10/22/21', ' 149.69', ' 150.18', ' 148.64', ' 148.69', ' 58883441']\n",
            "['10/21/21', ' 148.81', ' 149.64', ' 147.87', ' 149.48', ' 61420992']\n",
            "['10/20/21', ' 148.70', ' 149.7539', ' 148.12', ' 149.26', ' 58418793']\n",
            "['10/19/21', ' 147.01', ' 149.17', ' 146.55', ' 148.76', ' 76378891']\n",
            "['10/18/21', ' 143.445', ' 146.84', ' 143.16', ' 146.55', ' 85589188']\n",
            "['10/15/21', ' 143.77', ' 144.895', ' 143.51', ' 144.84', ' 67940328']\n",
            "['10/14/21', ' 142.11', ' 143.88', ' 141.51', ' 143.76', ' 69907102']\n"
          ]
        }
      ]
    },
    {
      "cell_type": "code",
      "source": [
        "# Extract numbers from text\n",
        "\n",
        "text='slss0sf1ss7fssf5s8s6d4ssfs22dfs9fss1dd'\n",
        "\n",
        "import re\n",
        "find=re.findall('[0-9]', text)\n",
        "print(''.join(find))"
      ],
      "metadata": {
        "colab": {
          "base_uri": "https://localhost:8080/"
        },
        "id": "DVNIalFsap8l",
        "outputId": "2a231460-55b2-4f0b-c937-e1a92c7cf2dd"
      },
      "execution_count": null,
      "outputs": [
        {
          "output_type": "stream",
          "name": "stdout",
          "text": [
            "01758642291\n"
          ]
        }
      ]
    },
    {
      "cell_type": "code",
      "source": [
        ""
      ],
      "metadata": {
        "id": "Z4B5imZIap_d"
      },
      "execution_count": null,
      "outputs": []
    },
    {
      "cell_type": "code",
      "source": [
        "# Merge Dictionary \n",
        "\n",
        "one={'Anika':60000, 'Steve':51000, 'Marc':82000}\n",
        "two={'Farhana':80000}\n",
        "\n",
        "merge_dict={**one, **two}\n",
        "merge_dict"
      ],
      "metadata": {
        "id": "Am0-1CK4aqCm",
        "outputId": "3dd48fc9-e5d9-4dbf-ac4f-4514ac1c157f",
        "colab": {
          "base_uri": "https://localhost:8080/"
        }
      },
      "execution_count": 2,
      "outputs": [
        {
          "output_type": "execute_result",
          "data": {
            "text/plain": [
              "{'Anika': 60000, 'Farhana': 80000, 'Marc': 82000, 'Steve': 51000}"
            ]
          },
          "metadata": {},
          "execution_count": 2
        }
      ]
    },
    {
      "cell_type": "code",
      "source": [
        ""
      ],
      "metadata": {
        "id": "-sGu7WXyaqFP"
      },
      "execution_count": null,
      "outputs": []
    },
    {
      "cell_type": "code",
      "source": [
        "# Combine multiple if statement \n",
        "\n",
        "math=int(input('Enter your math marks: '))\n",
        "physics=int(input('Enter your physics marks: '))\n",
        "chemistry=int(input('Enter your chemistry marks: '))\n",
        "biology=int(input('Enter your biology marks: '))\n",
        "\n",
        "combine_statement=[math>40, physics>40, chemistry>40, biology>40]\n",
        "\n",
        "if all(combine_statement):\n",
        "  print('You have passed every subject.')\n",
        "elif any(combine_statement):\n",
        "  print('You failed on any one subject.')"
      ],
      "metadata": {
        "id": "s3Hz-aWodZj_",
        "outputId": "bea27dbb-b31c-40d0-e4bb-9ef6bad3346f",
        "colab": {
          "base_uri": "https://localhost:8080/"
        }
      },
      "execution_count": 4,
      "outputs": [
        {
          "output_type": "stream",
          "name": "stdout",
          "text": [
            "Enter your math marks: 50\n",
            "Enter your physics marks: 80\n",
            "Enter your chemistry marks: 60\n",
            "Enter your biology marks: 70\n",
            "You have passed every subject.\n"
          ]
        }
      ]
    },
    {
      "cell_type": "code",
      "source": [
        ""
      ],
      "metadata": {
        "id": "CX-4VjyBaqIg"
      },
      "execution_count": null,
      "outputs": []
    },
    {
      "cell_type": "code",
      "source": [
        ""
      ],
      "metadata": {
        "id": "SfAYxD0DaqLJ"
      },
      "execution_count": null,
      "outputs": []
    },
    {
      "cell_type": "code",
      "source": [
        ""
      ],
      "metadata": {
        "id": "n8vsRgOZaqNv"
      },
      "execution_count": null,
      "outputs": []
    }
  ]
}