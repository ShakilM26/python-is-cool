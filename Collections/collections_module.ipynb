{
 "cells": [
  {
   "cell_type": "code",
   "execution_count": null,
   "id": "ade5df79",
   "metadata": {},
   "outputs": [],
   "source": []
  },
  {
   "cell_type": "markdown",
   "id": "11a9639a",
   "metadata": {},
   "source": [
    "## namedtuple\n",
    "#### As an enhanced version of tuple. Or as a quick way of creating a python class with certain named attributes.\n",
    "#### A key difference between a tuple and a namedtuple is: while a tuple let’s you access data through indices,                                  with a namedtuple you can access the elements with their names"
   ]
  },
  {
   "cell_type": "code",
   "execution_count": 24,
   "id": "b320a19c",
   "metadata": {},
   "outputs": [],
   "source": [
    "from collections import namedtuple"
   ]
  },
  {
   "cell_type": "code",
   "execution_count": 25,
   "id": "6e0646f3",
   "metadata": {},
   "outputs": [],
   "source": [
    "movie = namedtuple('movies', 'genre rating lead_actor')"
   ]
  },
  {
   "cell_type": "code",
   "execution_count": 26,
   "id": "774d7b32",
   "metadata": {},
   "outputs": [],
   "source": [
    "#instances\n",
    "ironman = movie(genre='action', rating=8.5, lead_actor='RDJ')\n",
    "inception = movie(genre='sci-fi', rating=9, lead_actor='Leonardo')\n",
    "seven = movie(genre='thriller', rating=8.8, lead_actor='Brad Pitt & Morgan Freeman')\n"
   ]
  },
  {
   "cell_type": "code",
   "execution_count": 27,
   "id": "5ec4d891",
   "metadata": {},
   "outputs": [
    {
     "name": "stdout",
     "output_type": "stream",
     "text": [
      "Leonardo\n"
     ]
    }
   ],
   "source": [
    "print(inception.lead_actor)"
   ]
  },
  {
   "cell_type": "code",
   "execution_count": 28,
   "id": "4f07c22d",
   "metadata": {},
   "outputs": [],
   "source": [
    "# passing a list\n",
    "person = namedtuple('person', ['name', 'age', 'job'])\n",
    "\n",
    "sejuti = person('Sejuti Anjum', 24, 'Journalist')\n",
    "mintu = person('Mintu Hossain', 26, 'ML Engineer')\n",
    "kawser = person('Kawser Mahbub', 25, 'Professor')"
   ]
  },
  {
   "cell_type": "code",
   "execution_count": 29,
   "id": "3af102b5",
   "metadata": {},
   "outputs": [
    {
     "name": "stdout",
     "output_type": "stream",
     "text": [
      "Sejuti Anjum\n"
     ]
    }
   ],
   "source": [
    "print(sejuti.name)"
   ]
  },
  {
   "cell_type": "code",
   "execution_count": null,
   "id": "b620d38e",
   "metadata": {},
   "outputs": [],
   "source": []
  },
  {
   "cell_type": "code",
   "execution_count": 32,
   "id": "c9290419",
   "metadata": {},
   "outputs": [],
   "source": [
    "# A major advantage of namedtuple is they take up less space / memory than an equivalent dictionary.\n",
    "\n",
    "elon = dict({'name':'Elon Musk', 'country':'South Africa, Canadian, American',\n",
    "            'company':'Space-X, Tesla, Hyperloop'})\n",
    "\n",
    "# convert dict into namedtuple\n",
    "nt_elon = namedtuple('profile', ['name', 'country', 'company'])\n",
    "\n",
    "nt_elon_2 = nt_elon(**elon)\n",
    "\n",
    "# first define the structure of the namedtuple and\n",
    "# pass the dictionary ( **dict ) to that namedtuple as argument. \n",
    "# Only requirement is, the key’s of the dict should match the field names of the namedtuple ."
   ]
  },
  {
   "cell_type": "code",
   "execution_count": 33,
   "id": "4ed493b9",
   "metadata": {},
   "outputs": [
    {
     "name": "stdout",
     "output_type": "stream",
     "text": [
      "232\n",
      "64\n"
     ]
    }
   ],
   "source": [
    "import sys\n",
    "print(sys.getsizeof(elon))\n",
    "print(sys.getsizeof(nt_elon_2))"
   ]
  },
  {
   "cell_type": "code",
   "execution_count": null,
   "id": "14604287",
   "metadata": {},
   "outputs": [],
   "source": []
  },
  {
   "cell_type": "code",
   "execution_count": 83,
   "id": "9104a4b4",
   "metadata": {},
   "outputs": [],
   "source": [
    "# creating namedtuple by passing fieldnames as a list of strings\n",
    "\n",
    "players = namedtuple('players', ['name', 'country', 'club'])\n",
    "\n",
    "ronaldo = players('Cristiano Ronaldo', 'Portugal', 'Manchester United')\n",
    "messi = players('Lionel Messi', 'Argentina', 'PSG')\n",
    "haaland = players('Erling Haaland', 'Norway', 'Manchester City')\n",
    "neymar = players('Neymar Jr.', 'Brazil', 'Barcelona')"
   ]
  },
  {
   "cell_type": "code",
   "execution_count": 84,
   "id": "6d9feaaa",
   "metadata": {},
   "outputs": [
    {
     "data": {
      "text/plain": [
       "players(name='Neymar Jr.', country='Brazil', club='PSG')"
      ]
     },
     "execution_count": 84,
     "metadata": {},
     "output_type": "execute_result"
    }
   ],
   "source": [
    "neymar._replace(club='PSG')"
   ]
  },
  {
   "cell_type": "markdown",
   "id": "5ad0ff0c",
   "metadata": {},
   "source": [
    "## Counter\n",
    "#### Counter is dict subclass, used to count hashable objects.\n",
    "#### It returns a dictionary with the elements as keys and the count (no of times the element was present) as values .\n"
   ]
  },
  {
   "cell_type": "code",
   "execution_count": 8,
   "id": "4381992c",
   "metadata": {},
   "outputs": [
    {
     "name": "stdout",
     "output_type": "stream",
     "text": [
      "Counter({9: 3, 8: 3, 4: 2, 5: 2, 6: 1, 7: 1, 1: 1, 2: 1, 10: 1})\n"
     ]
    }
   ],
   "source": [
    "from collections import Counter\n",
    "\n",
    "numbers = [4,5,6,9,8,4,5,8,9,7,1,2,8,9,10]\n",
    "count = Counter(numbers)\n",
    "print(count)"
   ]
  },
  {
   "cell_type": "code",
   "execution_count": 21,
   "id": "773f6c6c",
   "metadata": {},
   "outputs": [
    {
     "name": "stdout",
     "output_type": "stream",
     "text": [
      "Counter({'nuha': 2, 'farzana': 1, 'suchi': 1, 'promy': 1})\n"
     ]
    }
   ],
   "source": [
    "name_list = ['nuha', 'farzana', 'suchi', 'promy', 'nuha']\n",
    "print(Counter(name_list))"
   ]
  },
  {
   "cell_type": "code",
   "execution_count": 10,
   "id": "77296451",
   "metadata": {},
   "outputs": [
    {
     "name": "stdout",
     "output_type": "stream",
     "text": [
      "Counter({'life': 2, 'the': 2, 'earth': 2, 'comes': 1, 'from': 1, 'and': 1, 'returns': 1, 'to': 1})\n"
     ]
    }
   ],
   "source": [
    "quotes = 'life comes from the earth and life returns to the earth'\n",
    "\n",
    "split = quotes.split()\n",
    "count = Counter(split)\n",
    "print(count)"
   ]
  },
  {
   "cell_type": "code",
   "execution_count": 11,
   "id": "391ddc57",
   "metadata": {},
   "outputs": [
    {
     "name": "stdout",
     "output_type": "stream",
     "text": [
      "[('life', 2), ('the', 2), ('earth', 2), ('comes', 1)]\n"
     ]
    }
   ],
   "source": [
    "print(Counter(count).most_common(4))"
   ]
  },
  {
   "cell_type": "code",
   "execution_count": null,
   "id": "a3cb85a0",
   "metadata": {},
   "outputs": [],
   "source": []
  },
  {
   "cell_type": "markdown",
   "id": "157d6ff5",
   "metadata": {},
   "source": [
    "## defaultdict\n",
    "\n",
    "#### defaultdict is different from dict. \n",
    "#### If you try to access a key that is not present in a dictionary, it throws a KeyError . Whereas, in a defaultdict it does not give a KeyError . It returns a default values."
   ]
  },
  {
   "cell_type": "code",
   "execution_count": 24,
   "id": "885e9af9",
   "metadata": {},
   "outputs": [
    {
     "name": "stdout",
     "output_type": "stream",
     "text": [
      "<object object at 0x00000242C21F39C0>\n"
     ]
    }
   ],
   "source": [
    "from collections import defaultdict\n",
    "def_dict = defaultdict(object)\n",
    "\n",
    "country = {'USA':101, 'Russia':202, 'Iran':303}\n",
    "print(def_dict['North Korea'])"
   ]
  },
  {
   "cell_type": "code",
   "execution_count": 26,
   "id": "72be3ee9",
   "metadata": {},
   "outputs": [
    {
     "name": "stdout",
     "output_type": "stream",
     "text": [
      "value is absent\n"
     ]
    }
   ],
   "source": [
    "# If we want we can define our own function and default values\n",
    "\n",
    "def return_values():\n",
    "    return 'value is absent'\n",
    "\n",
    "def_dict = defaultdict(return_values)\n",
    "print(def_dict['China'])"
   ]
  },
  {
   "cell_type": "code",
   "execution_count": null,
   "id": "ce79b987",
   "metadata": {},
   "outputs": [],
   "source": []
  },
  {
   "cell_type": "markdown",
   "id": "013c1aaf",
   "metadata": {},
   "source": [
    "## OrderDict\n",
    "\n",
    "#### A dict is an UNORDERED collection of key value pairs. But, an OrderedDict maintains the ORDER in which the keys are inserted. It's a subclass of dict"
   ]
  },
  {
   "cell_type": "code",
   "execution_count": 34,
   "id": "42859bf5",
   "metadata": {},
   "outputs": [
    {
     "name": "stdout",
     "output_type": "stream",
     "text": [
      "Aristotle : Greek\n",
      "Karl Marx : Germany\n",
      "Confucius : China\n",
      "Aristotle : Greek\n",
      "Karl Marx : Germany\n",
      "Confucius : China\n"
     ]
    }
   ],
   "source": [
    "from collections import OrderedDict\n",
    "\n",
    "philosopher = {'Aristotle':'Greek', 'Karl Marx':'Germany', 'Confucius':'China'}\n",
    "od = OrderedDict(philosopher)\n",
    "\n",
    "for key,value in philosopher.items():\n",
    "    print(key, ':', value)\n",
    "\n",
    "\n",
    "for key,value in od.items():\n",
    "    print(key, ':', value)"
   ]
  },
  {
   "cell_type": "code",
   "execution_count": null,
   "id": "db08e9f0",
   "metadata": {},
   "outputs": [],
   "source": []
  },
  {
   "cell_type": "markdown",
   "id": "df5801bd",
   "metadata": {},
   "source": [
    "## ChainMap\n",
    "#### ChainMap is a container datatype which stores multiple dictionaries. \n",
    "#### In many cases, you might have relevant or similar dictionaries, you can store them collectively in a ChainMap\n"
   ]
  },
  {
   "cell_type": "code",
   "execution_count": 39,
   "id": "247bfbf4",
   "metadata": {},
   "outputs": [],
   "source": [
    "from collections import ChainMap\n",
    "\n",
    "di1 = {'Shakil':'Nuha', 'Mintu':'Sanjida', 'Mohosin':'Korobi'}\n",
    "di2 = {'Kawser':'Lecturer', 'Ohi':'Professor'}\n",
    "di3 = {'first_name':'Sehba', 'last_name':'Aawdrita'}"
   ]
  },
  {
   "cell_type": "code",
   "execution_count": 49,
   "id": "d282c748",
   "metadata": {},
   "outputs": [
    {
     "name": "stdout",
     "output_type": "stream",
     "text": [
      "['first_name', 'last_name', 'Kawser', 'Ohi', 'Shakil', 'Mintu', 'Mohosin']\n",
      "['Sehba', 'Aawdrita', 'Lecturer', 'Professor', 'Nuha', 'Sanjida', 'Korobi'] \n",
      "\n"
     ]
    },
    {
     "data": {
      "text/plain": [
       "[{'Shakil': 'Nuha', 'Mintu': 'Sanjida', 'Mohosin': 'Korobi'},\n",
       " {'Kawser': 'Lecturer', 'Ohi': 'Professor'},\n",
       " {'first_name': 'Sehba', 'last_name': 'Aawdrita'}]"
      ]
     },
     "execution_count": 49,
     "metadata": {},
     "output_type": "execute_result"
    }
   ],
   "source": [
    "my_chain = ChainMap(di1, di2, di3)\n",
    "print(list(my_chain.keys()))\n",
    "print(list(my_chain.values()), '\\n')\n",
    "my_chain.maps"
   ]
  },
  {
   "cell_type": "code",
   "execution_count": 50,
   "id": "d87e4165",
   "metadata": {},
   "outputs": [],
   "source": [
    "# redundant means duplicate\n",
    "# when redundant keys arrive chainmap never repeat that in output."
   ]
  },
  {
   "cell_type": "code",
   "execution_count": 57,
   "id": "51258b05",
   "metadata": {},
   "outputs": [
    {
     "name": "stdout",
     "output_type": "stream",
     "text": [
      "ChainMap({'Kohli': 'India', 'Ab De Villiers': 'South Africa'}, {'Jimmy Anderson': 'England', 'Mitchel Stark': 'Australia'})\n"
     ]
    }
   ],
   "source": [
    "# add new dictionary to a chainmap\n",
    "\n",
    "batsman = {'Kohli':'India', 'Ab De Villiers':'South Africa'}\n",
    "bowler = {'Jimmy Anderson':'England', 'Mitchel Stark':'Australia'}\n",
    "\n",
    "old_chain = ChainMap(batsman, bowler)\n",
    "print(old_chain)"
   ]
  },
  {
   "cell_type": "code",
   "execution_count": 56,
   "id": "adacab3e",
   "metadata": {},
   "outputs": [
    {
     "name": "stdout",
     "output_type": "stream",
     "text": [
      "ChainMap({'Sakib Al Hasan': 'Bangladesh', 'Mitchel Santner': 'New Zealand'}, {'Kohli': 'India', 'Ab De Villiers': 'South Africa'}, {'Jimmy Anderson': 'England', 'Mitchel Stark': 'Australia'})\n"
     ]
    }
   ],
   "source": [
    "# add new dict\n",
    "alrounder = {'Sakib Al Hasan':'Bangladesh', 'Mitchel Santner':'New Zealand'}\n",
    "new_chain = old_chain.new_child(alrounder)\n",
    "print(new_chain)"
   ]
  },
  {
   "cell_type": "code",
   "execution_count": null,
   "id": "d1063a9a",
   "metadata": {},
   "outputs": [],
   "source": []
  },
  {
   "cell_type": "markdown",
   "id": "9a3984ed",
   "metadata": {},
   "source": [
    "## UserList\n",
    "#### A UserList is list-like container datatype, which is wrapper class for list s.\n",
    "\n",
    "#### You pass a normal list as an argument to userlist. This list is stored in the data attribute and can be accessed through UserList.data method."
   ]
  },
  {
   "cell_type": "code",
   "execution_count": 61,
   "id": "6898ceee",
   "metadata": {},
   "outputs": [
    {
     "name": "stdout",
     "output_type": "stream",
     "text": [
      "[10, 20, 30, 40, 50]\n"
     ]
    }
   ],
   "source": [
    "from collections import UserList\n",
    "lists = [10,20,30,40,50]\n",
    "\n",
    "# accessing by data attribute\n",
    "user_list = UserList(lists)\n",
    "print(user_list.data)"
   ]
  },
  {
   "cell_type": "code",
   "execution_count": 62,
   "id": "053b7f59",
   "metadata": {},
   "outputs": [
    {
     "ename": "RuntimeError",
     "evalue": "Authority denied",
     "output_type": "error",
     "traceback": [
      "\u001b[1;31m---------------------------------------------------------------------------\u001b[0m",
      "\u001b[1;31mRuntimeError\u001b[0m                              Traceback (most recent call last)",
      "\u001b[1;32m~\\AppData\\Local\\Temp\\ipykernel_9924\\1993501259.py\u001b[0m in \u001b[0;36m<module>\u001b[1;34m\u001b[0m\n\u001b[0;32m      3\u001b[0m         \u001b[1;32mraise\u001b[0m \u001b[0mRuntimeError\u001b[0m\u001b[1;33m(\u001b[0m\u001b[1;34m'Authority denied'\u001b[0m\u001b[1;33m)\u001b[0m\u001b[1;33m\u001b[0m\u001b[1;33m\u001b[0m\u001b[0m\n\u001b[0;32m      4\u001b[0m \u001b[0mlists\u001b[0m \u001b[1;33m=\u001b[0m \u001b[0muser_list\u001b[0m\u001b[1;33m(\u001b[0m\u001b[1;33m[\u001b[0m\u001b[1;36m70\u001b[0m\u001b[1;33m,\u001b[0m\u001b[1;36m80\u001b[0m\u001b[1;33m]\u001b[0m\u001b[1;33m)\u001b[0m\u001b[1;33m\u001b[0m\u001b[1;33m\u001b[0m\u001b[0m\n\u001b[1;32m----> 5\u001b[1;33m \u001b[0mlists\u001b[0m\u001b[1;33m.\u001b[0m\u001b[0mappend\u001b[0m\u001b[1;33m(\u001b[0m\u001b[1;36m90\u001b[0m\u001b[1;33m)\u001b[0m\u001b[1;33m\u001b[0m\u001b[1;33m\u001b[0m\u001b[0m\n\u001b[0m",
      "\u001b[1;32m~\\AppData\\Local\\Temp\\ipykernel_9924\\1993501259.py\u001b[0m in \u001b[0;36mappend\u001b[1;34m(self, s)\u001b[0m\n\u001b[0;32m      1\u001b[0m \u001b[1;32mclass\u001b[0m \u001b[0muser_list\u001b[0m\u001b[1;33m(\u001b[0m\u001b[0mUserList\u001b[0m\u001b[1;33m)\u001b[0m\u001b[1;33m:\u001b[0m\u001b[1;33m\u001b[0m\u001b[1;33m\u001b[0m\u001b[0m\n\u001b[0;32m      2\u001b[0m     \u001b[1;32mdef\u001b[0m \u001b[0mappend\u001b[0m\u001b[1;33m(\u001b[0m\u001b[0mself\u001b[0m\u001b[1;33m,\u001b[0m \u001b[0ms\u001b[0m\u001b[1;33m=\u001b[0m\u001b[1;32mNone\u001b[0m\u001b[1;33m)\u001b[0m\u001b[1;33m:\u001b[0m\u001b[1;33m\u001b[0m\u001b[1;33m\u001b[0m\u001b[0m\n\u001b[1;32m----> 3\u001b[1;33m         \u001b[1;32mraise\u001b[0m \u001b[0mRuntimeError\u001b[0m\u001b[1;33m(\u001b[0m\u001b[1;34m'Authority denied'\u001b[0m\u001b[1;33m)\u001b[0m\u001b[1;33m\u001b[0m\u001b[1;33m\u001b[0m\u001b[0m\n\u001b[0m\u001b[0;32m      4\u001b[0m \u001b[0mlists\u001b[0m \u001b[1;33m=\u001b[0m \u001b[0muser_list\u001b[0m\u001b[1;33m(\u001b[0m\u001b[1;33m[\u001b[0m\u001b[1;36m70\u001b[0m\u001b[1;33m,\u001b[0m\u001b[1;36m80\u001b[0m\u001b[1;33m]\u001b[0m\u001b[1;33m)\u001b[0m\u001b[1;33m\u001b[0m\u001b[1;33m\u001b[0m\u001b[0m\n\u001b[0;32m      5\u001b[0m \u001b[0mlists\u001b[0m\u001b[1;33m.\u001b[0m\u001b[0mappend\u001b[0m\u001b[1;33m(\u001b[0m\u001b[1;36m90\u001b[0m\u001b[1;33m)\u001b[0m\u001b[1;33m\u001b[0m\u001b[1;33m\u001b[0m\u001b[0m\n",
      "\u001b[1;31mRuntimeError\u001b[0m: Authority denied"
     ]
    }
   ],
   "source": [
    "class user_list(UserList):\n",
    "    def append(self, s=None):\n",
    "        raise RuntimeError('Authority denied')\n",
    "lists = user_list([70,80])\n",
    "lists.append(90)\n",
    "\n",
    "# This can be helpful if you want to make sure nobody can\n",
    "# insert their name after a particular deadline."
   ]
  },
  {
   "cell_type": "code",
   "execution_count": null,
   "id": "628ab7b7",
   "metadata": {},
   "outputs": [],
   "source": []
  },
  {
   "cell_type": "code",
   "execution_count": null,
   "id": "a7c13df8",
   "metadata": {},
   "outputs": [],
   "source": []
  },
  {
   "cell_type": "code",
   "execution_count": null,
   "id": "923c2a14",
   "metadata": {},
   "outputs": [],
   "source": []
  },
  {
   "cell_type": "code",
   "execution_count": null,
   "id": "e356a3fd",
   "metadata": {},
   "outputs": [],
   "source": []
  },
  {
   "cell_type": "code",
   "execution_count": null,
   "id": "f412c981",
   "metadata": {},
   "outputs": [],
   "source": []
  },
  {
   "cell_type": "code",
   "execution_count": null,
   "id": "d219e138",
   "metadata": {},
   "outputs": [],
   "source": []
  },
  {
   "cell_type": "code",
   "execution_count": null,
   "id": "6bbaaa36",
   "metadata": {},
   "outputs": [],
   "source": []
  },
  {
   "cell_type": "code",
   "execution_count": null,
   "id": "d62a74c5",
   "metadata": {},
   "outputs": [],
   "source": []
  },
  {
   "cell_type": "code",
   "execution_count": null,
   "id": "447a1721",
   "metadata": {},
   "outputs": [],
   "source": []
  },
  {
   "cell_type": "code",
   "execution_count": null,
   "id": "3e0d772f",
   "metadata": {},
   "outputs": [],
   "source": []
  },
  {
   "cell_type": "code",
   "execution_count": null,
   "id": "c1344bb7",
   "metadata": {},
   "outputs": [],
   "source": []
  },
  {
   "cell_type": "code",
   "execution_count": null,
   "id": "306435a0",
   "metadata": {},
   "outputs": [],
   "source": []
  },
  {
   "cell_type": "code",
   "execution_count": null,
   "id": "4d74dbf8",
   "metadata": {},
   "outputs": [],
   "source": []
  },
  {
   "cell_type": "code",
   "execution_count": null,
   "id": "4b5b924b",
   "metadata": {},
   "outputs": [],
   "source": []
  }
 ],
 "metadata": {
  "kernelspec": {
   "display_name": "Python 3 (ipykernel)",
   "language": "python",
   "name": "python3"
  },
  "language_info": {
   "codemirror_mode": {
    "name": "ipython",
    "version": 3
   },
   "file_extension": ".py",
   "mimetype": "text/x-python",
   "name": "python",
   "nbconvert_exporter": "python",
   "pygments_lexer": "ipython3",
   "version": "3.9.13"
  }
 },
 "nbformat": 4,
 "nbformat_minor": 5
}
