{
 "cells": [
  {
   "cell_type": "markdown",
   "id": "1afd7459",
   "metadata": {},
   "source": [
    "### Write a program to create a class and, using the class instance, print all the writable attributes of that object.\n",
    "Every class object has an inbuilt __dict__ attribute that returns a dictionary of all the attributes available for that object"
   ]
  },
  {
   "cell_type": "code",
   "execution_count": 9,
   "id": "63590821",
   "metadata": {},
   "outputs": [
    {
     "name": "stdout",
     "output_type": "stream",
     "text": [
      "{'name': 'Almirr Shakil', 'age': 27, 'country': 'Bangladesh', 'position': 'Forward', 'club': 'Real Madrid', 'jersey_no': 7}\n"
     ]
    }
   ],
   "source": [
    "class club:\n",
    "    def __init__(self,club,jersey_no):\n",
    "        self.club = club\n",
    "        self.jersey_no = jersey_no\n",
    "    \n",
    "    def details(self):\n",
    "        print('Name:', self.name)\n",
    "        print('Age:', self.age)\n",
    "        print('Country:', self.country)\n",
    "        print('Position:', self.position)\n",
    "        print('Club:', self.club)\n",
    "        print('Jersey No:', self.jersey_no)\n",
    "    \n",
    "class player(club):\n",
    "    def __init__(self,name,age,country,position):\n",
    "        self.name = name\n",
    "        self.age = age\n",
    "        self.country = country\n",
    "        self.position = position\n",
    "        super().__init__('Real Madrid', 7)\n",
    "\n",
    "obj = player('Almirr Shakil', 27, 'Bangladesh', 'Forward')\n",
    "print(obj.__dict__)"
   ]
  },
  {
   "cell_type": "code",
   "execution_count": null,
   "id": "7c78b0d3",
   "metadata": {},
   "outputs": [],
   "source": []
  },
  {
   "cell_type": "markdown",
   "id": "88787430",
   "metadata": {},
   "source": [
    "### Write a Python program that overloads the operator + and > for a custom class."
   ]
  },
  {
   "cell_type": "code",
   "execution_count": 4,
   "id": "de4d5faf",
   "metadata": {},
   "outputs": [
    {
     "name": "stdout",
     "output_type": "stream",
     "text": [
      "True\n"
     ]
    }
   ],
   "source": [
    "class orders:\n",
    "    def __init__(self, items):\n",
    "        self.items = items\n",
    "    def __add__(self, other):\n",
    "        return self.items + other.items\n",
    "    def __gt__(self, other):\n",
    "        return len(self.items) > len(other.items)\n",
    "\n",
    "\n",
    "order1 = orders([1,2,3,4,5,6])\n",
    "order2 = orders([10,20,30])\n",
    "print(order1 > order2)"
   ]
  },
  {
   "cell_type": "markdown",
   "id": "9b03e0a2",
   "metadata": {},
   "source": [
    "### Prints the class name using its object."
   ]
  },
  {
   "cell_type": "code",
   "execution_count": 8,
   "id": "8d5080c5",
   "metadata": {},
   "outputs": [
    {
     "name": "stdout",
     "output_type": "stream",
     "text": [
      "The classname of cat object is:  pet\n"
     ]
    }
   ],
   "source": [
    "class pet:\n",
    "    pass\n",
    "cat = pet()\n",
    "\n",
    "print('The classname of cat object is: ', cat.__class__.__name__)"
   ]
  },
  {
   "cell_type": "markdown",
   "id": "81f2a80e",
   "metadata": {},
   "source": [
    "### Write a Python class, Square, and define two methods that return the square area and perimeter."
   ]
  },
  {
   "cell_type": "code",
   "execution_count": 10,
   "id": "00bcfe26",
   "metadata": {},
   "outputs": [
    {
     "name": "stdout",
     "output_type": "stream",
     "text": [
      "Area: 100\n",
      "Perimeter: 40\n"
     ]
    }
   ],
   "source": [
    "class square:\n",
    "    def __init__(self,side):\n",
    "        self.side = side\n",
    "    def area(self):\n",
    "        return self.side * self.side\n",
    "    def perimeter(self):\n",
    "        return 4*(self.side)\n",
    "obj = square(10)\n",
    "print('Area:', obj.area())\n",
    "print('Perimeter:', obj.perimeter())"
   ]
  },
  {
   "cell_type": "markdown",
   "id": "f9b95eef",
   "metadata": {},
   "source": [
    "### Write a Python program to implement a stack data structure using class and objects, with push, pop, and traversal methods"
   ]
  },
  {
   "cell_type": "code",
   "execution_count": 4,
   "id": "c07d53fe",
   "metadata": {},
   "outputs": [
    {
     "name": "stdout",
     "output_type": "stream",
     "text": [
      "| 3 |\n",
      "| 2 |\n",
      "| 1 |\n"
     ]
    }
   ],
   "source": [
    "class stack:\n",
    "    def __init__(self):\n",
    "        self.stack = []\n",
    "    \n",
    "    def push(self, item):\n",
    "        self.stack.append(item)\n",
    "        \n",
    "    def pop(self):\n",
    "        self.stack.pop()\n",
    "    \n",
    "    def traverse(self):\n",
    "        for item in self.stack[::-1]:\n",
    "            print(\"|\", item, \"|\")\n",
    "        \n",
    "stack = stack()\n",
    "\n",
    "stack.push(1)\n",
    "stack.push(2)\n",
    "stack.push(3)\n",
    "stack.push(4)\n",
    "stack.push(5)\n",
    "\n",
    "stack.pop()\n",
    "stack.pop()\n",
    "\n",
    "stack.traverse()"
   ]
  },
  {
   "cell_type": "code",
   "execution_count": null,
   "id": "f8e68eab",
   "metadata": {},
   "outputs": [],
   "source": []
  },
  {
   "cell_type": "markdown",
   "id": "427837a9",
   "metadata": {},
   "source": [
    "### Create a class with one private attributes. Private attribute that cannot be accessed outside the class."
   ]
  },
  {
   "cell_type": "code",
   "execution_count": 10,
   "id": "5d161b68",
   "metadata": {},
   "outputs": [
    {
     "name": "stdout",
     "output_type": "stream",
     "text": [
      "Name: Walid\n",
      "Age: 45\n",
      "Salary: 60000\n"
     ]
    }
   ],
   "source": [
    "class teacher():\n",
    "    def __init__(self,name,age,salary):\n",
    "        self.name = name\n",
    "        self.age = age\n",
    "        self.__salary = salary # private variable\n",
    "    \n",
    "    def details(self):\n",
    "        print('Name:', self.name)\n",
    "        print('Age:', self.age)\n",
    "        print('Salary:', self.__salary) # access private attribute inside the class\n",
    "teacher = teacher('Walid',45,60000)\n",
    "teacher.details()"
   ]
  },
  {
   "cell_type": "code",
   "execution_count": 11,
   "id": "082f1534",
   "metadata": {},
   "outputs": [
    {
     "name": "stdout",
     "output_type": "stream",
     "text": [
      "Walid\n"
     ]
    },
    {
     "ename": "AttributeError",
     "evalue": "'teacher' object has no attribute '__salary'",
     "output_type": "error",
     "traceback": [
      "\u001b[1;31m---------------------------------------------------------------------------\u001b[0m",
      "\u001b[1;31mAttributeError\u001b[0m                            Traceback (most recent call last)",
      "Cell \u001b[1;32mIn[11], line 4\u001b[0m\n\u001b[0;32m      1\u001b[0m \u001b[38;5;28mprint\u001b[39m(teacher\u001b[38;5;241m.\u001b[39mname)\n\u001b[0;32m      3\u001b[0m \u001b[38;5;66;03m# #access private member outside the class will throw error\u001b[39;00m\n\u001b[1;32m----> 4\u001b[0m \u001b[38;5;28mprint\u001b[39m(\u001b[43mteacher\u001b[49m\u001b[38;5;241;43m.\u001b[39;49m\u001b[43m__salary\u001b[49m)\n",
      "\u001b[1;31mAttributeError\u001b[0m: 'teacher' object has no attribute '__salary'"
     ]
    }
   ],
   "source": [
    "print(teacher.name)\n",
    "\n",
    "# access private member outside the class will throw error\n",
    "print(teacher.__salary)"
   ]
  },
  {
   "cell_type": "code",
   "execution_count": null,
   "id": "d93a444f",
   "metadata": {},
   "outputs": [],
   "source": []
  }
 ],
 "metadata": {
  "kernelspec": {
   "display_name": "Python 3 (ipykernel)",
   "language": "python",
   "name": "python3"
  },
  "language_info": {
   "codemirror_mode": {
    "name": "ipython",
    "version": 3
   },
   "file_extension": ".py",
   "mimetype": "text/x-python",
   "name": "python",
   "nbconvert_exporter": "python",
   "pygments_lexer": "ipython3",
   "version": "3.10.9"
  }
 },
 "nbformat": 4,
 "nbformat_minor": 5
}
