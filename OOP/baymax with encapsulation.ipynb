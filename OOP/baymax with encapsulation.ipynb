{
 "cells": [
  {
   "cell_type": "code",
   "execution_count": 9,
   "id": "107378dd",
   "metadata": {},
   "outputs": [
    {
     "name": "stdout",
     "output_type": "stream",
     "text": [
      "Baymax Introduction: \t\n",
      " \tname: Hello! I am Baymax\n",
      " \tintro: Your Personal Healthcare Companion\n",
      " \tinventor: Tadashi made me\n",
      " work_on \t\n",
      " \tservice: I was alerted when people get hurt and sound like ow\n",
      " \tbest_buddy: my best buddy is Hiro Hamada who is Tadashis little brother\n",
      "I am kinda satisfied with my care\n"
     ]
    }
   ],
   "source": [
    "class baymax:\n",
    "    def __init__(self, name, intro, inventor):\n",
    "        self.name = name\n",
    "        self.intro = intro\n",
    "        self.inventor = inventor\n",
    "    def __str__(self):\n",
    "        return \"\\n \\tname: \"+str(self.name)+\"\\n \\tintro: \"+str(self.intro)+ \"\\n \\tinventor: \"+str(self.inventor)\n",
    "\n",
    "class service:\n",
    "    def __init__(self, service, best_buddy):\n",
    "        self.service = service\n",
    "        self.best_buddy = best_buddy\n",
    "    def __str__(self):\n",
    "        return \"\\n \\tservice: \"+str(self.service)+\"\\n \\tbest_buddy: \"+str(self.best_buddy)\n",
    "\n",
    "    \n",
    "class description:\n",
    "    def __init__(self, baymax, service):\n",
    "        self.baymax = baymax\n",
    "        self.service = service\n",
    "    def __str__(self):\n",
    "        return \"Baymax Introduction: \\t\"+str(self.baymax)+\"\\n work_on \\t\"+str(self.service)\n",
    " \n",
    "\n",
    "b = baymax('Hello! I am Baymax', 'Your Personal Healthcare Companion', 'Tadashi made me')\n",
    "w = service('I was alerted when people get hurt and sound like ow', 'my best buddy is Hiro Hamada who is Tadashis little brother')\n",
    "d = description(b,w)\n",
    "print(d)\n",
    "\n",
    "print('I am kinda satisfied with my care')"
   ]
  },
  {
   "cell_type": "code",
   "execution_count": null,
   "id": "8b9b0644",
   "metadata": {},
   "outputs": [],
   "source": []
  }
 ],
 "metadata": {
  "kernelspec": {
   "display_name": "Python 3 (ipykernel)",
   "language": "python",
   "name": "python3"
  },
  "language_info": {
   "codemirror_mode": {
    "name": "ipython",
    "version": 3
   },
   "file_extension": ".py",
   "mimetype": "text/x-python",
   "name": "python",
   "nbconvert_exporter": "python",
   "pygments_lexer": "ipython3",
   "version": "3.9.15"
  }
 },
 "nbformat": 4,
 "nbformat_minor": 5
}
