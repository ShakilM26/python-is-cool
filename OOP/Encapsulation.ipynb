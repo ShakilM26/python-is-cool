{
 "cells": [
  {
   "cell_type": "code",
   "execution_count": null,
   "id": "19cf4ef8",
   "metadata": {},
   "outputs": [],
   "source": []
  },
  {
   "cell_type": "code",
   "execution_count": 8,
   "id": "80773647",
   "metadata": {},
   "outputs": [
    {
     "name": "stdout",
     "output_type": "stream",
     "text": [
      "Laptop_Description \t\n",
      " \tbrand_name: HP\n",
      " \tmodel: Pavilion\n",
      " \tprice: 44,400\n",
      "\n",
      " Configuration \t \n",
      " \tRAM: 4GB\n",
      " \tCore-i: 3\n",
      " \tGen: 7\n",
      " \n",
      " Buying_year \n",
      " \n",
      " \n",
      " \tbuy_year: 2017\n"
     ]
    }
   ],
   "source": [
    "## Encapsulation\n",
    "## Encapsulation is a programming concept that refers to the \n",
    "## bundling of data and methods that operate on that data within a single unit, or object. \n",
    "## In Python, encapsulation is achieved through the use of classes.\n",
    "\n",
    "# Encapsulation is like invisible box, we don't know what's in the backside \n",
    "\n",
    "# Composite Encapsulation pass all the objects as a variable\n",
    "\n",
    "class Laptop:\n",
    "    def __init__(self, brand_name, model, price):\n",
    "        self.brand_name = brand_name\n",
    "        self.model = model\n",
    "        self.price = price\n",
    "    def __str__(self):\n",
    "        return \"\\n \\tbrand_name: \"+str(self.brand_name)+\"\\n \\tmodel: \"+str(self.model)+\"\\n \\tprice: \"+str(self.price)+\"\\n\"\n",
    "\n",
    "class Configuration:\n",
    "    def __init__(self,RAM,Corei,Gen):\n",
    "        self.RAM = RAM\n",
    "        self.Corei = Corei\n",
    "        self.Gen = Gen \n",
    "    def __str__(self):\n",
    "        return \" \\n \\tRAM: \"+str(self.RAM)+\"\\n \\tCore-i: \"+str(self.Corei)+\"\\n \\tGen: \"+str(self.Gen)\n",
    "\n",
    "class buy_year:\n",
    "    def __init__(self,buy_year):\n",
    "        self.buy_year = buy_year\n",
    "    def __str__(self):\n",
    "        return \" \\n \\tbuy_year: \"+str(self.buy_year)\n",
    "\n",
    "class description:\n",
    "    def __init__(self, Laptop, Configuration, buy_year):\n",
    "        self.Laptop = Laptop\n",
    "        self.Configuration = Configuration\n",
    "        self.buy_year = buy_year\n",
    "    \n",
    "    def __str__(self):\n",
    "        return \"Laptop_Description \\t\"+str(self.Laptop)+\"\\n Configuration \\t\"+str(self.Configuration)+\"\\n \\n Buying_year \\n \\n\"+str(self.buy_year)\n",
    "\n",
    "l = Laptop('HP', 'Pavilion', '44,400')\n",
    "c = Configuration(\"4GB\", 3, 7)\n",
    "b = buy_year(2017)\n",
    "d = description(l, c, b)\n",
    "print(d)"
   ]
  },
  {
   "cell_type": "code",
   "execution_count": 9,
   "id": "4ad2370f",
   "metadata": {},
   "outputs": [
    {
     "name": "stdout",
     "output_type": "stream",
     "text": [
      "Shakil-Mou tying the knot with 10500 denmohor\n",
      "Shakil-Mou tying the knot with 10500 denmohor and fun fact is they both studying in B.Sc but different university\n"
     ]
    }
   ],
   "source": [
    "# Dynamic Extension pass some of the object as a variable\n",
    "\n",
    "class marrige:\n",
    "    def __init__(self, couple_name, denmohor):\n",
    "        self.couple_name = couple_name\n",
    "        self.denmohor = denmohor\n",
    "    def __str__(self):\n",
    "        return \"%s tying the knot with %s denmohor\"% (self.couple_name, self.denmohor)\n",
    "m = marrige('Shakil-Mou', 10500)\n",
    "print(m)\n",
    "\n",
    "class relation:\n",
    "    def __init__(self, info, education):\n",
    "        self.info = info \n",
    "        self.education = education\n",
    "    def __str__(self):\n",
    "        return \"%s and fun fact is they both studying in %s but different university\"% (self.info, self.education)\n",
    "\n",
    "infos = relation(m, \"B.Sc\")\n",
    "print(infos)"
   ]
  },
  {
   "cell_type": "code",
   "execution_count": null,
   "id": "2d9d457d",
   "metadata": {},
   "outputs": [],
   "source": []
  },
  {
   "cell_type": "code",
   "execution_count": 7,
   "id": "63d9eb7e",
   "metadata": {},
   "outputs": [
    {
     "name": "stdout",
     "output_type": "stream",
     "text": [
      "1300\n"
     ]
    }
   ],
   "source": [
    "class BankAccount:\n",
    "    def __init__(self, balance=0):\n",
    "        self.__balance = balance # private variable\n",
    "    \n",
    "# '__balance' variable is private, that means it can only be\n",
    "# accessed and modified using the public methods of the class.\n",
    "\n",
    "# this helps to protect the integrity of the data and prevent \n",
    "# external code from making unauthorized access and changes to the balance.\n",
    "\n",
    "\n",
    "    def deposit(self, amount):\n",
    "        self.__balance += amount\n",
    "    def withdraw(self, amount):\n",
    "        if self.__balance >= amount:\n",
    "            self.__balance -= amount\n",
    "        else:\n",
    "            print('Insufficient Funds')\n",
    "    \n",
    "    def get_balance(self):\n",
    "        return self.__balance\n",
    "\n",
    "account = BankAccount(1000)\n",
    "account.deposit(500)\n",
    "account.withdraw(200)\n",
    "balance = account.get_balance()\n",
    "print(balance)"
   ]
  },
  {
   "cell_type": "code",
   "execution_count": null,
   "id": "46eff30c",
   "metadata": {},
   "outputs": [],
   "source": []
  }
 ],
 "metadata": {
  "kernelspec": {
   "display_name": "Python 3 (ipykernel)",
   "language": "python",
   "name": "python3"
  },
  "language_info": {
   "codemirror_mode": {
    "name": "ipython",
    "version": 3
   },
   "file_extension": ".py",
   "mimetype": "text/x-python",
   "name": "python",
   "nbconvert_exporter": "python",
   "pygments_lexer": "ipython3",
   "version": "3.9.13"
  }
 },
 "nbformat": 4,
 "nbformat_minor": 5
}
