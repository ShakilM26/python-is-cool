{
 "cells": [
  {
   "cell_type": "markdown",
   "id": "08e5faec",
   "metadata": {},
   "source": [
    "We know it as an anonymous function or function without name (Like Ryan Gosling's Character in Drive. The Driver without name.)\n",
    "\n",
    "lambda function can be called in one line."
   ]
  },
  {
   "cell_type": "code",
   "execution_count": null,
   "id": "f85ebc6a",
   "metadata": {},
   "outputs": [],
   "source": []
  },
  {
   "cell_type": "markdown",
   "id": "bfc5688d",
   "metadata": {},
   "source": [
    "lambda x: x**5\n",
    "\n",
    "here 'x' is the function parameter\n",
    "'x**5' is the expression\n",
    "\n",
    "#### function parameter and the body seperated by the color (:)"
   ]
  },
  {
   "cell_type": "code",
   "execution_count": null,
   "id": "501939c7",
   "metadata": {},
   "outputs": [],
   "source": []
  },
  {
   "cell_type": "markdown",
   "id": "5e4c945b",
   "metadata": {},
   "source": [
    "#### filter"
   ]
  },
  {
   "cell_type": "code",
   "execution_count": 95,
   "id": "90cfa407",
   "metadata": {},
   "outputs": [
    {
     "data": {
      "text/plain": [
       "[2, 5, 8]"
      ]
     },
     "execution_count": 95,
     "metadata": {},
     "output_type": "execute_result"
    }
   ],
   "source": [
    "# take some numbers between 2 to 50 with interval with 3.\n",
    "# find only those numbers whose square is less than 100\n",
    "\n",
    "import numpy as np\n",
    "numbers = list(np.arange(2, 50, 3))\n",
    "using_lambda = list(filter(lambda x:x**2<100, numbers))\n",
    "using_lambda"
   ]
  },
  {
   "cell_type": "markdown",
   "id": "d539232c",
   "metadata": {},
   "source": [
    "Certainly, for complex calculations in the function, you should go for a normal user-defined function, but when you have a function with just one expression, lambda function is perfect choice"
   ]
  },
  {
   "cell_type": "code",
   "execution_count": null,
   "id": "9ca103eb",
   "metadata": {},
   "outputs": [],
   "source": []
  },
  {
   "cell_type": "markdown",
   "id": "b798792d",
   "metadata": {},
   "source": [
    "#### map "
   ]
  },
  {
   "cell_type": "code",
   "execution_count": 104,
   "id": "77f92245",
   "metadata": {},
   "outputs": [],
   "source": [
    "import pandas as pd\n",
    "\n",
    "mylist = np.arange(4, 50, 4)\n",
    "myseries = pd.Series(mylist)\n",
    "\n",
    "# convert it into series bcz numpy array doesn't have apply"
   ]
  },
  {
   "cell_type": "code",
   "execution_count": 105,
   "id": "879171f4",
   "metadata": {},
   "outputs": [
    {
     "data": {
      "text/plain": [
       "0      4.312500\n",
       "1      8.078125\n",
       "2     12.034722\n",
       "3     16.019531\n",
       "4     20.012500\n",
       "5     24.008681\n",
       "6     28.006378\n",
       "7     32.004883\n",
       "8     36.003858\n",
       "9     40.003125\n",
       "10    44.002583\n",
       "11    48.002170\n",
       "dtype: float64"
      ]
     },
     "execution_count": 105,
     "metadata": {},
     "output_type": "execute_result"
    }
   ],
   "source": [
    "myseries.apply(lambda x: x+5/x**2)"
   ]
  },
  {
   "cell_type": "markdown",
   "id": "da7a6479",
   "metadata": {},
   "source": [
    "#### make uppercase using apply"
   ]
  },
  {
   "cell_type": "code",
   "execution_count": 107,
   "id": "0843f033",
   "metadata": {},
   "outputs": [
    {
     "data": {
      "text/html": [
       "<div>\n",
       "<style scoped>\n",
       "    .dataframe tbody tr th:only-of-type {\n",
       "        vertical-align: middle;\n",
       "    }\n",
       "\n",
       "    .dataframe tbody tr th {\n",
       "        vertical-align: top;\n",
       "    }\n",
       "\n",
       "    .dataframe thead th {\n",
       "        text-align: right;\n",
       "    }\n",
       "</style>\n",
       "<table border=\"1\" class=\"dataframe\">\n",
       "  <thead>\n",
       "    <tr style=\"text-align: right;\">\n",
       "      <th></th>\n",
       "      <th>id</th>\n",
       "      <th>name</th>\n",
       "      <th>city</th>\n",
       "    </tr>\n",
       "  </thead>\n",
       "  <tbody>\n",
       "    <tr>\n",
       "      <th>0</th>\n",
       "      <td>100</td>\n",
       "      <td>shakil</td>\n",
       "      <td>Bangladesh</td>\n",
       "    </tr>\n",
       "    <tr>\n",
       "      <th>1</th>\n",
       "      <td>109</td>\n",
       "      <td>isabel</td>\n",
       "      <td>Norway</td>\n",
       "    </tr>\n",
       "    <tr>\n",
       "      <th>2</th>\n",
       "      <td>200</td>\n",
       "      <td>erin</td>\n",
       "      <td>usa</td>\n",
       "    </tr>\n",
       "    <tr>\n",
       "      <th>3</th>\n",
       "      <td>210</td>\n",
       "      <td>fenellas</td>\n",
       "      <td>uk</td>\n",
       "    </tr>\n",
       "    <tr>\n",
       "      <th>4</th>\n",
       "      <td>220</td>\n",
       "      <td>wanda</td>\n",
       "      <td>canada</td>\n",
       "    </tr>\n",
       "  </tbody>\n",
       "</table>\n",
       "</div>"
      ],
      "text/plain": [
       "    id      name        city\n",
       "0  100    shakil  Bangladesh\n",
       "1  109    isabel      Norway\n",
       "2  200      erin         usa\n",
       "3  210  fenellas          uk\n",
       "4  220     wanda      canada"
      ]
     },
     "execution_count": 107,
     "metadata": {},
     "output_type": "execute_result"
    }
   ],
   "source": [
    "df = pd.read_csv('dummy.csv')\n",
    "df"
   ]
  },
  {
   "cell_type": "code",
   "execution_count": 108,
   "id": "a86b42aa",
   "metadata": {},
   "outputs": [
    {
     "data": {
      "text/html": [
       "<div>\n",
       "<style scoped>\n",
       "    .dataframe tbody tr th:only-of-type {\n",
       "        vertical-align: middle;\n",
       "    }\n",
       "\n",
       "    .dataframe tbody tr th {\n",
       "        vertical-align: top;\n",
       "    }\n",
       "\n",
       "    .dataframe thead th {\n",
       "        text-align: right;\n",
       "    }\n",
       "</style>\n",
       "<table border=\"1\" class=\"dataframe\">\n",
       "  <thead>\n",
       "    <tr style=\"text-align: right;\">\n",
       "      <th></th>\n",
       "      <th>id</th>\n",
       "      <th>name</th>\n",
       "      <th>city</th>\n",
       "    </tr>\n",
       "  </thead>\n",
       "  <tbody>\n",
       "    <tr>\n",
       "      <th>0</th>\n",
       "      <td>100</td>\n",
       "      <td>SHAKIL</td>\n",
       "      <td>Bangladesh</td>\n",
       "    </tr>\n",
       "    <tr>\n",
       "      <th>1</th>\n",
       "      <td>109</td>\n",
       "      <td>ISABEL</td>\n",
       "      <td>Norway</td>\n",
       "    </tr>\n",
       "    <tr>\n",
       "      <th>2</th>\n",
       "      <td>200</td>\n",
       "      <td>ERIN</td>\n",
       "      <td>usa</td>\n",
       "    </tr>\n",
       "    <tr>\n",
       "      <th>3</th>\n",
       "      <td>210</td>\n",
       "      <td>FENELLAS</td>\n",
       "      <td>uk</td>\n",
       "    </tr>\n",
       "    <tr>\n",
       "      <th>4</th>\n",
       "      <td>220</td>\n",
       "      <td>WANDA</td>\n",
       "      <td>canada</td>\n",
       "    </tr>\n",
       "  </tbody>\n",
       "</table>\n",
       "</div>"
      ],
      "text/plain": [
       "    id      name        city\n",
       "0  100    SHAKIL  Bangladesh\n",
       "1  109    ISABEL      Norway\n",
       "2  200      ERIN         usa\n",
       "3  210  FENELLAS          uk\n",
       "4  220     WANDA      canada"
      ]
     },
     "execution_count": 108,
     "metadata": {},
     "output_type": "execute_result"
    }
   ],
   "source": [
    "df['name'] = df['name'].apply(lambda x: x.upper())\n",
    "df"
   ]
  },
  {
   "cell_type": "code",
   "execution_count": null,
   "id": "37fdb9b0",
   "metadata": {},
   "outputs": [],
   "source": []
  }
 ],
 "metadata": {
  "kernelspec": {
   "display_name": "Python 3 (ipykernel)",
   "language": "python",
   "name": "python3"
  },
  "language_info": {
   "codemirror_mode": {
    "name": "ipython",
    "version": 3
   },
   "file_extension": ".py",
   "mimetype": "text/x-python",
   "name": "python",
   "nbconvert_exporter": "python",
   "pygments_lexer": "ipython3",
   "version": "3.9.15"
  }
 },
 "nbformat": 4,
 "nbformat_minor": 5
}
