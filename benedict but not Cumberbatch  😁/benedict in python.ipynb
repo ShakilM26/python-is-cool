{
 "cells": [
  {
   "cell_type": "code",
   "execution_count": 4,
   "id": "c331256d",
   "metadata": {},
   "outputs": [],
   "source": [
    "from benedict import benedict"
   ]
  },
  {
   "cell_type": "markdown",
   "id": "268eccc6",
   "metadata": {},
   "source": [
    "### benedict is a dict subclass, so it is possible to use it as a normal dictionary (you can just cast an existing dict)."
   ]
  },
  {
   "cell_type": "code",
   "execution_count": 12,
   "id": "6deb97b2",
   "metadata": {},
   "outputs": [],
   "source": [
    "# empty instance\n",
    "b = benedict()"
   ]
  },
  {
   "cell_type": "code",
   "execution_count": 6,
   "id": "4299ea38",
   "metadata": {},
   "outputs": [],
   "source": [
    "# keylist, set values by keylist\n",
    "\n",
    "b['info', 'name'] = 'Almirr Shakil'\n",
    "b['info', 'age'] = 25\n",
    "b['info', 'city'] = 'Rajshahi'"
   ]
  },
  {
   "cell_type": "code",
   "execution_count": 7,
   "id": "92638987",
   "metadata": {},
   "outputs": [
    {
     "name": "stdout",
     "output_type": "stream",
     "text": [
      "{'info': {'name': 'Almirr Shakil', 'age': 25, 'city': 'Rajshahi'}}\n"
     ]
    }
   ],
   "source": [
    "print(b)"
   ]
  },
  {
   "cell_type": "code",
   "execution_count": 9,
   "id": "592cb28c",
   "metadata": {},
   "outputs": [
    {
     "name": "stdout",
     "output_type": "stream",
     "text": [
      "{'name': 'Almirr Shakil', 'age': 25, 'city': 'Rajshahi'}\n"
     ]
    }
   ],
   "source": [
    "print(b['info'])"
   ]
  },
  {
   "cell_type": "code",
   "execution_count": 10,
   "id": "86c40713",
   "metadata": {},
   "outputs": [
    {
     "name": "stdout",
     "output_type": "stream",
     "text": [
      "True\n"
     ]
    }
   ],
   "source": [
    "print(['info', 'name'] in b)"
   ]
  },
  {
   "cell_type": "code",
   "execution_count": 11,
   "id": "276de665",
   "metadata": {},
   "outputs": [
    {
     "name": "stdout",
     "output_type": "stream",
     "text": [
      "{'name': 'Almirr Shakil', 'city': 'Rajshahi'}\n"
     ]
    }
   ],
   "source": [
    "del b['info', 'age']\n",
    "print(b['info'])"
   ]
  },
  {
   "cell_type": "code",
   "execution_count": null,
   "id": "e3c4731b",
   "metadata": {},
   "outputs": [],
   "source": []
  }
 ],
 "metadata": {
  "kernelspec": {
   "display_name": "Python 3 (ipykernel)",
   "language": "python",
   "name": "python3"
  },
  "language_info": {
   "codemirror_mode": {
    "name": "ipython",
    "version": 3
   },
   "file_extension": ".py",
   "mimetype": "text/x-python",
   "name": "python",
   "nbconvert_exporter": "python",
   "pygments_lexer": "ipython3",
   "version": "3.9.15"
  }
 },
 "nbformat": 4,
 "nbformat_minor": 5
}
