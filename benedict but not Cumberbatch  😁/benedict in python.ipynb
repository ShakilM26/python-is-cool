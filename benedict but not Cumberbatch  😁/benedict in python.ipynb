{
 "cells": [
  {
   "cell_type": "code",
   "execution_count": 61,
   "id": "c331256d",
   "metadata": {},
   "outputs": [],
   "source": [
    "from benedict import benedict"
   ]
  },
  {
   "cell_type": "markdown",
   "id": "268eccc6",
   "metadata": {},
   "source": [
    "### benedict is a dict subclass, so it is possible to use it as a normal dictionary (you can just cast an existing dict)."
   ]
  },
  {
   "cell_type": "code",
   "execution_count": 62,
   "id": "6deb97b2",
   "metadata": {},
   "outputs": [],
   "source": [
    "# empty instance\n",
    "b = benedict()"
   ]
  },
  {
   "cell_type": "code",
   "execution_count": 63,
   "id": "4299ea38",
   "metadata": {},
   "outputs": [],
   "source": [
    "# keylist, set values by keylist\n",
    "\n",
    "b['info', 'name'] = 'Almirr Shakil'\n",
    "b['info', 'age'] = ''\n",
    "b['info', 'city'] = 'Rajshahi'\n",
    "b['info', 'spouse'] = 'Erin'\n",
    "b['info', 'spouse house'] = 'Switzerland'"
   ]
  },
  {
   "cell_type": "code",
   "execution_count": 64,
   "id": "92638987",
   "metadata": {},
   "outputs": [
    {
     "name": "stdout",
     "output_type": "stream",
     "text": [
      "{'info': {'name': 'Almirr Shakil', 'age': '', 'city': 'Rajshahi', 'spouse': 'Erin', 'spouse house': 'Switzerland'}}\n"
     ]
    }
   ],
   "source": [
    "print(b)"
   ]
  },
  {
   "cell_type": "code",
   "execution_count": 65,
   "id": "592cb28c",
   "metadata": {},
   "outputs": [
    {
     "name": "stdout",
     "output_type": "stream",
     "text": [
      "{'name': 'Almirr Shakil', 'age': '', 'city': 'Rajshahi', 'spouse': 'Erin', 'spouse house': 'Switzerland'}\n"
     ]
    }
   ],
   "source": [
    "print(b['info'])"
   ]
  },
  {
   "cell_type": "code",
   "execution_count": 66,
   "id": "86c40713",
   "metadata": {},
   "outputs": [
    {
     "name": "stdout",
     "output_type": "stream",
     "text": [
      "True\n"
     ]
    }
   ],
   "source": [
    "# cheking \n",
    "\n",
    "print(['info', 'name'] in b)"
   ]
  },
  {
   "cell_type": "code",
   "execution_count": 67,
   "id": "276de665",
   "metadata": {},
   "outputs": [
    {
     "name": "stdout",
     "output_type": "stream",
     "text": [
      "{'name': 'Almirr Shakil', 'age': '', 'city': 'Rajshahi', 'spouse': 'Erin'}\n"
     ]
    }
   ],
   "source": [
    "# delete any value by using keys list \n",
    "del b['info', 'spouse house']\n",
    "print(b['info'])"
   ]
  },
  {
   "cell_type": "code",
   "execution_count": 71,
   "id": "80e5f488",
   "metadata": {},
   "outputs": [
    {
     "data": {
      "text/plain": [
       "'Almirr Shakil'"
      ]
     },
     "execution_count": 71,
     "metadata": {},
     "output_type": "execute_result"
    }
   ],
   "source": [
    "b['info.name'] # ( . ) is a default keypath separator. any one can change it."
   ]
  },
  {
   "cell_type": "code",
   "execution_count": null,
   "id": "fb0d73c6",
   "metadata": {},
   "outputs": [],
   "source": []
  },
  {
   "cell_type": "code",
   "execution_count": null,
   "id": "abdfd9b2",
   "metadata": {},
   "outputs": [],
   "source": []
  }
 ],
 "metadata": {
  "kernelspec": {
   "display_name": "Python 3 (ipykernel)",
   "language": "python",
   "name": "python3"
  },
  "language_info": {
   "codemirror_mode": {
    "name": "ipython",
    "version": 3
   },
   "file_extension": ".py",
   "mimetype": "text/x-python",
   "name": "python",
   "nbconvert_exporter": "python",
   "pygments_lexer": "ipython3",
   "version": "3.9.15"
  }
 },
 "nbformat": 4,
 "nbformat_minor": 5
}
