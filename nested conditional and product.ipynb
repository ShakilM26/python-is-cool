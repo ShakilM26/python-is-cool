{
 "cells": [
  {
   "cell_type": "code",
   "execution_count": null,
   "id": "213b3119",
   "metadata": {},
   "outputs": [],
   "source": []
  },
  {
   "cell_type": "markdown",
   "id": "ac0a66fc",
   "metadata": {},
   "source": [
    "### Nested Conditional"
   ]
  },
  {
   "cell_type": "code",
   "execution_count": 1,
   "id": "bbd744f2",
   "metadata": {},
   "outputs": [
    {
     "name": "stdout",
     "output_type": "stream",
     "text": [
      "['Yes', 'No', 'Yes', 'Unknown!', 'No']\n"
     ]
    }
   ],
   "source": [
    "values = [True, False, True, None, False]\n",
    "\n",
    "result = []\n",
    "\n",
    "for v in values:\n",
    "    if v is True:\n",
    "        result.append('Yes')\n",
    "    else:\n",
    "        if v is False:\n",
    "            result.append('No')\n",
    "        else:\n",
    "            result.append('Unknown!')\n",
    "print(result)"
   ]
  },
  {
   "cell_type": "code",
   "execution_count": 2,
   "id": "f678d703",
   "metadata": {},
   "outputs": [
    {
     "name": "stdout",
     "output_type": "stream",
     "text": [
      "['yes', 'no', 'yes', 'unknown', 'no']\n"
     ]
    }
   ],
   "source": [
    "# but with list comprehension\n",
    "\n",
    "print(['yes' if v is True else 'no' if v is False else 'unknown' for v in values])\n"
   ]
  },
  {
   "cell_type": "code",
   "execution_count": null,
   "id": "a818d69e",
   "metadata": {},
   "outputs": [],
   "source": []
  },
  {
   "cell_type": "code",
   "execution_count": 210,
   "id": "8fad1ff7",
   "metadata": {},
   "outputs": [
    {
     "name": "stdout",
     "output_type": "stream",
     "text": [
      "2000 10\n"
     ]
    }
   ],
   "source": [
    "first = [10,200,2000]\n",
    "second = [100,5000,10]\n",
    "\n",
    "for f in first:\n",
    "    for s in second:\n",
    "        if f+s == 2010:\n",
    "            print(f,s)"
   ]
  },
  {
   "cell_type": "markdown",
   "id": "8956d423",
   "metadata": {},
   "source": [
    "### Using 'Product' instead nested"
   ]
  },
  {
   "cell_type": "code",
   "execution_count": 211,
   "id": "8f1a8c10",
   "metadata": {},
   "outputs": [
    {
     "name": "stdout",
     "output_type": "stream",
     "text": [
      "2000 10\n"
     ]
    }
   ],
   "source": [
    "from itertools import product\n",
    "\n",
    "for f,s in product(first, second):\n",
    "    if f+s ==2010:\n",
    "        print(f,s)"
   ]
  },
  {
   "cell_type": "code",
   "execution_count": null,
   "id": "3da5d905",
   "metadata": {},
   "outputs": [],
   "source": []
  },
  {
   "cell_type": "code",
   "execution_count": null,
   "id": "ea18f3b6",
   "metadata": {},
   "outputs": [],
   "source": []
  },
  {
   "cell_type": "code",
   "execution_count": null,
   "id": "ac04e598",
   "metadata": {},
   "outputs": [],
   "source": []
  }
 ],
 "metadata": {
  "kernelspec": {
   "display_name": "Python 3 (ipykernel)",
   "language": "python",
   "name": "python3"
  },
  "language_info": {
   "codemirror_mode": {
    "name": "ipython",
    "version": 3
   },
   "file_extension": ".py",
   "mimetype": "text/x-python",
   "name": "python",
   "nbconvert_exporter": "python",
   "pygments_lexer": "ipython3",
   "version": "3.9.13"
  }
 },
 "nbformat": 4,
 "nbformat_minor": 5
}
