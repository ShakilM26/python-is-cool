{
 "cells": [
  {
   "cell_type": "markdown",
   "id": "1949aed6",
   "metadata": {},
   "source": [
    "#### find unique value from a list"
   ]
  },
  {
   "cell_type": "code",
   "execution_count": 3,
   "id": "5592959f",
   "metadata": {},
   "outputs": [
    {
     "name": "stdout",
     "output_type": "stream",
     "text": [
      "[1, 2, 3, 4, 10, 20]\n"
     ]
    }
   ],
   "source": [
    "def unique(old_list):\n",
    "    unique_list = []\n",
    "    \n",
    "    for i in old_list:\n",
    "        if i not in unique_list:\n",
    "            unique_list.append(i)\n",
    "        else:\n",
    "            pass\n",
    "    print(unique_list)\n",
    "\n",
    "old_list = [1,2,3,4,2,3,10,20,10]\n",
    "unique(old_list)"
   ]
  },
  {
   "cell_type": "markdown",
   "id": "9e3955c2",
   "metadata": {},
   "source": [
    "#### make another two list of even and odd"
   ]
  },
  {
   "cell_type": "code",
   "execution_count": 17,
   "id": "643ef1ca",
   "metadata": {},
   "outputs": [
    {
     "name": "stdout",
     "output_type": "stream",
     "text": [
      "Even List:  [2, 8, 10, 12]\n",
      "Odd List:  [1, 9]\n"
     ]
    }
   ],
   "source": [
    "def even_odd(lists):\n",
    "    even = []\n",
    "    odd = []\n",
    "    for i in lists:\n",
    "        if i % 2 == 0:\n",
    "            even.append(i)\n",
    "        else:\n",
    "            odd.append(i)\n",
    "    print('Even List: ', even)\n",
    "    print('Odd List: ', odd)\n",
    "lists = [1,2,8,9,10,12]\n",
    "even_odd(lists)"
   ]
  },
  {
   "cell_type": "markdown",
   "id": "a6a3e74b",
   "metadata": {},
   "source": [
    "####  print the squares of numbers"
   ]
  },
  {
   "cell_type": "code",
   "execution_count": 7,
   "id": "7b310255",
   "metadata": {},
   "outputs": [
    {
     "name": "stdout",
     "output_type": "stream",
     "text": [
      "1\n",
      "4\n",
      "9\n",
      "16\n",
      "25\n",
      "36\n",
      "49\n",
      "64\n",
      "81\n",
      "100\n"
     ]
    }
   ],
   "source": [
    "def square():\n",
    "    for i in range(1,11):\n",
    "        print(i ** 2)\n",
    "\n",
    "square()"
   ]
  },
  {
   "cell_type": "markdown",
   "id": "2d5debef",
   "metadata": {},
   "source": [
    "####  print a list where the values are the squares of numbers"
   ]
  },
  {
   "cell_type": "code",
   "execution_count": 8,
   "id": "9c58cf60",
   "metadata": {},
   "outputs": [
    {
     "name": "stdout",
     "output_type": "stream",
     "text": [
      "[1, 4, 9, 16, 25, 36, 49, 64, 81, 100]\n"
     ]
    }
   ],
   "source": [
    "def square():\n",
    "    li = list()\n",
    "    for i in range(1,11):\n",
    "        li.append(i**2)\n",
    "    print(li)\n",
    "square()"
   ]
  },
  {
   "cell_type": "code",
   "execution_count": null,
   "id": "5f893518",
   "metadata": {},
   "outputs": [],
   "source": []
  },
  {
   "cell_type": "markdown",
   "id": "98c3f9e7",
   "metadata": {},
   "source": [
    "#### execute a string containing Python code."
   ]
  },
  {
   "cell_type": "code",
   "execution_count": 15,
   "id": "1e114402",
   "metadata": {},
   "outputs": [
    {
     "name": "stdout",
     "output_type": "stream",
     "text": [
      "20\n"
     ]
    }
   ],
   "source": [
    "string = \"\"\"\n",
    "def sum(x,y):\n",
    "    return x+y\n",
    "print(sum(10,10))\n",
    "\"\"\"\n",
    "exec(string)"
   ]
  },
  {
   "cell_type": "code",
   "execution_count": null,
   "id": "3682d9b5",
   "metadata": {},
   "outputs": [],
   "source": []
  }
 ],
 "metadata": {
  "kernelspec": {
   "display_name": "Python 3 (ipykernel)",
   "language": "python",
   "name": "python3"
  },
  "language_info": {
   "codemirror_mode": {
    "name": "ipython",
    "version": 3
   },
   "file_extension": ".py",
   "mimetype": "text/x-python",
   "name": "python",
   "nbconvert_exporter": "python",
   "pygments_lexer": "ipython3",
   "version": "3.10.9"
  }
 },
 "nbformat": 4,
 "nbformat_minor": 5
}
