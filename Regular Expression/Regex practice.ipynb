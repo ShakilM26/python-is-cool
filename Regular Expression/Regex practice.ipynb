{
 "cells": [
  {
   "cell_type": "markdown",
   "id": "1d99f5d0",
   "metadata": {},
   "source": [
    "# Thanks freecodecamp"
   ]
  },
  {
   "cell_type": "code",
   "execution_count": 1,
   "id": "383a5d4d",
   "metadata": {},
   "outputs": [],
   "source": [
    "import re"
   ]
  },
  {
   "cell_type": "code",
   "execution_count": 2,
   "id": "bc958b35",
   "metadata": {},
   "outputs": [
    {
     "name": "stdout",
     "output_type": "stream",
     "text": [
      "The word 'a' appears in the string 1 times\n"
     ]
    }
   ],
   "source": [
    "string = 'I went to the bar with my barber holding a crowbar'\n",
    "\n",
    "pattern = r'\\b a \\b'\n",
    "\n",
    "find = re.findall(pattern=pattern, string=string)\n",
    "\n",
    "print(f\"The word 'a' appears in the string {len(find)} times\")"
   ]
  },
  {
   "cell_type": "code",
   "execution_count": 4,
   "id": "2000ea3d",
   "metadata": {},
   "outputs": [
    {
     "name": "stdout",
     "output_type": "stream",
     "text": [
      "I went to the hospital with my barber holding a crowbar\n"
     ]
    }
   ],
   "source": [
    "string = 'I went to the bar with my barber holding a crowbar'\n",
    "\n",
    "pattern = r'\\bbar\\b'\n",
    "\n",
    "result = re.sub(pattern=pattern, repl='hospital', string=string)\n",
    "\n",
    "print(result)"
   ]
  },
  {
   "cell_type": "code",
   "execution_count": 5,
   "id": "964ecbe5",
   "metadata": {},
   "outputs": [
    {
     "name": "stdout",
     "output_type": "stream",
     "text": [
      "['went', 'the', 'bar', 'with', 'barber', 'holding', 'crowbar']\n"
     ]
    }
   ],
   "source": [
    "# find words with 3 or more characters\n",
    "string = 'I went to the bar with my barber holding a crowbar'\n",
    "\n",
    "pattern = r'\\b\\w{3,}\\b'\n",
    "\n",
    "result = re.findall(pattern=pattern, string=string)\n",
    "\n",
    "print(result)"
   ]
  },
  {
   "cell_type": "code",
   "execution_count": 6,
   "id": "090d13ca",
   "metadata": {},
   "outputs": [
    {
     "data": {
      "text/plain": [
       "['bar', 'barber']"
      ]
     },
     "execution_count": 6,
     "metadata": {},
     "output_type": "execute_result"
    }
   ],
   "source": [
    "# find words that start with b and end with r\n",
    "\n",
    "string = 'I went to the bar with my barber holding a crowbar'\n",
    "\n",
    "pattern = r'\\b(b[^\\s]+r)\\b'\n",
    "\n",
    "result = re.findall(pattern=pattern, string=string)\n",
    "result"
   ]
  },
  {
   "cell_type": "code",
   "execution_count": null,
   "id": "8f18c212",
   "metadata": {},
   "outputs": [],
   "source": []
  },
  {
   "cell_type": "code",
   "execution_count": 7,
   "id": "dabe0af1",
   "metadata": {},
   "outputs": [
    {
     "data": {
      "text/html": [
       "<div>\n",
       "<style scoped>\n",
       "    .dataframe tbody tr th:only-of-type {\n",
       "        vertical-align: middle;\n",
       "    }\n",
       "\n",
       "    .dataframe tbody tr th {\n",
       "        vertical-align: top;\n",
       "    }\n",
       "\n",
       "    .dataframe thead th {\n",
       "        text-align: right;\n",
       "    }\n",
       "</style>\n",
       "<table border=\"1\" class=\"dataframe\">\n",
       "  <thead>\n",
       "    <tr style=\"text-align: right;\">\n",
       "      <th></th>\n",
       "      <th>text</th>\n",
       "    </tr>\n",
       "  </thead>\n",
       "  <tbody>\n",
       "    <tr>\n",
       "      <th>0</th>\n",
       "      <td>I'm grateful to @SenJohnMcCain for his lifetim...</td>\n",
       "    </tr>\n",
       "    <tr>\n",
       "      <th>1</th>\n",
       "      <td>Michelle &amp;amp; I are praying for the victims i...</td>\n",
       "    </tr>\n",
       "    <tr>\n",
       "      <th>2</th>\n",
       "      <td>Proud to cheer on Team USA at the Invictus Gam...</td>\n",
       "    </tr>\n",
       "    <tr>\n",
       "      <th>3</th>\n",
       "      <td>We're expanding our efforts to help Puerto Ric...</td>\n",
       "    </tr>\n",
       "    <tr>\n",
       "      <th>4</th>\n",
       "      <td>Prosecutor, soldier, family man, citizen. Beau...</td>\n",
       "    </tr>\n",
       "  </tbody>\n",
       "</table>\n",
       "</div>"
      ],
      "text/plain": [
       "                                                text\n",
       "0  I'm grateful to @SenJohnMcCain for his lifetim...\n",
       "1  Michelle &amp; I are praying for the victims i...\n",
       "2  Proud to cheer on Team USA at the Invictus Gam...\n",
       "3  We're expanding our efforts to help Puerto Ric...\n",
       "4  Prosecutor, soldier, family man, citizen. Beau..."
      ]
     },
     "execution_count": 7,
     "metadata": {},
     "output_type": "execute_result"
    }
   ],
   "source": [
    "import pandas as pd\n",
    "\n",
    "df = pd.read_csv('G:/Learning/My jupyter csv files/tweet obama.csv', usecols=['text'])\n",
    "df.head()"
   ]
  },
  {
   "cell_type": "code",
   "execution_count": 8,
   "id": "23d310ab",
   "metadata": {},
   "outputs": [
    {
     "data": {
      "text/html": [
       "<div>\n",
       "<style scoped>\n",
       "    .dataframe tbody tr th:only-of-type {\n",
       "        vertical-align: middle;\n",
       "    }\n",
       "\n",
       "    .dataframe tbody tr th {\n",
       "        vertical-align: top;\n",
       "    }\n",
       "\n",
       "    .dataframe thead th {\n",
       "        text-align: right;\n",
       "    }\n",
       "</style>\n",
       "<table border=\"1\" class=\"dataframe\">\n",
       "  <thead>\n",
       "    <tr style=\"text-align: right;\">\n",
       "      <th></th>\n",
       "      <th>text</th>\n",
       "      <th>Usernames</th>\n",
       "    </tr>\n",
       "  </thead>\n",
       "  <tbody>\n",
       "    <tr>\n",
       "      <th>0</th>\n",
       "      <td>I'm grateful to @SenJohnMcCain for his lifetim...</td>\n",
       "      <td>[@SenJohnMcCain]</td>\n",
       "    </tr>\n",
       "    <tr>\n",
       "      <th>1</th>\n",
       "      <td>Michelle &amp;amp; I are praying for the victims i...</td>\n",
       "      <td>[]</td>\n",
       "    </tr>\n",
       "    <tr>\n",
       "      <th>2</th>\n",
       "      <td>Proud to cheer on Team USA at the Invictus Gam...</td>\n",
       "      <td>[]</td>\n",
       "    </tr>\n",
       "    <tr>\n",
       "      <th>3</th>\n",
       "      <td>We're expanding our efforts to help Puerto Ric...</td>\n",
       "      <td>[]</td>\n",
       "    </tr>\n",
       "    <tr>\n",
       "      <th>4</th>\n",
       "      <td>Prosecutor, soldier, family man, citizen. Beau...</td>\n",
       "      <td>[]</td>\n",
       "    </tr>\n",
       "  </tbody>\n",
       "</table>\n",
       "</div>"
      ],
      "text/plain": [
       "                                                text         Usernames\n",
       "0  I'm grateful to @SenJohnMcCain for his lifetim...  [@SenJohnMcCain]\n",
       "1  Michelle &amp; I are praying for the victims i...                []\n",
       "2  Proud to cheer on Team USA at the Invictus Gam...                []\n",
       "3  We're expanding our efforts to help Puerto Ric...                []\n",
       "4  Prosecutor, soldier, family man, citizen. Beau...                []"
      ]
     },
     "execution_count": 8,
     "metadata": {},
     "output_type": "execute_result"
    }
   ],
   "source": [
    "def collect_usernames(tweet: str) -> list:\n",
    "    \"collect usernames in a given tweet\"\n",
    "\n",
    "    pattern = r'@\\S+'\n",
    "    username = re.findall(pattern=pattern, string=tweet)\n",
    "    return username\n",
    "\n",
    "df['Usernames'] = df['text'].apply(lambda x: collect_usernames(x))\n",
    "df[['text', 'Usernames']].head()"
   ]
  },
  {
   "cell_type": "code",
   "execution_count": 9,
   "id": "cb9003f4",
   "metadata": {},
   "outputs": [
    {
     "data": {
      "text/html": [
       "<div>\n",
       "<style scoped>\n",
       "    .dataframe tbody tr th:only-of-type {\n",
       "        vertical-align: middle;\n",
       "    }\n",
       "\n",
       "    .dataframe tbody tr th {\n",
       "        vertical-align: top;\n",
       "    }\n",
       "\n",
       "    .dataframe thead th {\n",
       "        text-align: right;\n",
       "    }\n",
       "</style>\n",
       "<table border=\"1\" class=\"dataframe\">\n",
       "  <thead>\n",
       "    <tr style=\"text-align: right;\">\n",
       "      <th></th>\n",
       "      <th>text</th>\n",
       "      <th>Text (Without Links)</th>\n",
       "    </tr>\n",
       "  </thead>\n",
       "  <tbody>\n",
       "    <tr>\n",
       "      <th>0</th>\n",
       "      <td>I'm grateful to @SenJohnMcCain for his lifetim...</td>\n",
       "      <td>I'm grateful to @SenJohnMcCain for his lifetim...</td>\n",
       "    </tr>\n",
       "    <tr>\n",
       "      <th>1</th>\n",
       "      <td>Michelle &amp;amp; I are praying for the victims i...</td>\n",
       "      <td>Michelle &amp;amp; I are praying for the victims i...</td>\n",
       "    </tr>\n",
       "    <tr>\n",
       "      <th>2</th>\n",
       "      <td>Proud to cheer on Team USA at the Invictus Gam...</td>\n",
       "      <td>Proud to cheer on Team USA at the Invictus Gam...</td>\n",
       "    </tr>\n",
       "    <tr>\n",
       "      <th>3</th>\n",
       "      <td>We're expanding our efforts to help Puerto Ric...</td>\n",
       "      <td>We're expanding our efforts to help Puerto Ric...</td>\n",
       "    </tr>\n",
       "    <tr>\n",
       "      <th>4</th>\n",
       "      <td>Prosecutor, soldier, family man, citizen. Beau...</td>\n",
       "      <td>Prosecutor, soldier, family man, citizen. Beau...</td>\n",
       "    </tr>\n",
       "  </tbody>\n",
       "</table>\n",
       "</div>"
      ],
      "text/plain": [
       "                                                text  \\\n",
       "0  I'm grateful to @SenJohnMcCain for his lifetim...   \n",
       "1  Michelle &amp; I are praying for the victims i...   \n",
       "2  Proud to cheer on Team USA at the Invictus Gam...   \n",
       "3  We're expanding our efforts to help Puerto Ric...   \n",
       "4  Prosecutor, soldier, family man, citizen. Beau...   \n",
       "\n",
       "                                Text (Without Links)  \n",
       "0  I'm grateful to @SenJohnMcCain for his lifetim...  \n",
       "1  Michelle &amp; I are praying for the victims i...  \n",
       "2  Proud to cheer on Team USA at the Invictus Gam...  \n",
       "3  We're expanding our efforts to help Puerto Ric...  \n",
       "4  Prosecutor, soldier, family man, citizen. Beau...  "
      ]
     },
     "execution_count": 9,
     "metadata": {},
     "output_type": "execute_result"
    }
   ],
   "source": [
    "def remove_links(tweet: str) -> list:\n",
    "    \n",
    "    pattern = r'https\\S+'\n",
    "    tweet_new = re.sub(pattern=pattern, repl='', string=tweet)\n",
    "    return tweet_new\n",
    "\n",
    "df['Text (Without Links)'] = df['text'].apply(lambda x: remove_links(x))\n",
    "df[['text', 'Text (Without Links)']].head()"
   ]
  },
  {
   "cell_type": "code",
   "execution_count": null,
   "id": "2ad7318f",
   "metadata": {},
   "outputs": [],
   "source": []
  }
 ],
 "metadata": {
  "kernelspec": {
   "display_name": "Python 3 (ipykernel)",
   "language": "python",
   "name": "python3"
  },
  "language_info": {
   "codemirror_mode": {
    "name": "ipython",
    "version": 3
   },
   "file_extension": ".py",
   "mimetype": "text/x-python",
   "name": "python",
   "nbconvert_exporter": "python",
   "pygments_lexer": "ipython3",
   "version": "3.9.13"
  }
 },
 "nbformat": 4,
 "nbformat_minor": 5
}
