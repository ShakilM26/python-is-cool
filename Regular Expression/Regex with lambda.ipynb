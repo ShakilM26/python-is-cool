{
 "cells": [
  {
   "cell_type": "code",
   "execution_count": 2,
   "id": "4dbc7466",
   "metadata": {},
   "outputs": [
    {
     "name": "stdout",
     "output_type": "stream",
     "text": [
      "['friends', 'family']\n"
     ]
    }
   ],
   "source": [
    "# Using Regular Expression inside the lambda expression\n",
    "# with filter\n",
    "\n",
    "import re\n",
    "\n",
    "words = ['friends', 'family', 'love', 'hate', 'emotion']\n",
    "\n",
    "filter_words = filter(lambda word: re.match('^f', word), words)\n",
    "# filter() takes lambda function as the function to execute\n",
    "# and take 'words' list as the iterable\n",
    "\n",
    "print(list(filter_words))"
   ]
  },
  {
   "cell_type": "code",
   "execution_count": 9,
   "id": "f10b44fc",
   "metadata": {},
   "outputs": [
    {
     "name": "stdout",
     "output_type": "stream",
     "text": [
      "['James', 'Jobs', 'Jack', 'Jane']\n"
     ]
    }
   ],
   "source": [
    "names = ['James', 'Jobs', 'Jack', 'Jane', 'Lily']\n",
    "pattern = re.compile('^J')\n",
    "\n",
    "find_J = filter(lambda x: pattern.match(x), names)\n",
    "print(list(find_J))"
   ]
  },
  {
   "cell_type": "code",
   "execution_count": 5,
   "id": "5774ec2d",
   "metadata": {},
   "outputs": [
    {
     "name": "stdout",
     "output_type": "stream",
     "text": [
      "['Tom Cruise', 'Tom Hardy', 'Chris Evans', 'Ryan']\n"
     ]
    }
   ],
   "source": [
    "# with map()\n",
    "\n",
    "actors = ['Dom Cruise', 'Dom Hardy', 'Chris Evans', 'Ryan']\n",
    "\n",
    "using_map = map(lambda actor: re.sub('D', 'T', actor), actors)\n",
    "print(list(using_map))"
   ]
  },
  {
   "cell_type": "code",
   "execution_count": 8,
   "id": "a1710b33",
   "metadata": {},
   "outputs": [
    {
     "name": "stdout",
     "output_type": "stream",
     "text": [
      "None\n"
     ]
    }
   ],
   "source": [
    "# with sort()\n",
    "\n",
    "fruits = ['mango','orange','grape','apple','pineapple']\n",
    "\n",
    "using_sort = fruits.sort(key=lambda x: len(re.findall('[aeiou]', x)))\n",
    "print(using_sort)"
   ]
  },
  {
   "cell_type": "code",
   "execution_count": 11,
   "id": "a6d5f33e",
   "metadata": {},
   "outputs": [
    {
     "data": {
      "text/plain": [
       "['mango', 'grape', 'pineapple', 'apple', 'orange']"
      ]
     },
     "execution_count": 11,
     "metadata": {},
     "output_type": "execute_result"
    }
   ],
   "source": [
    "# with vowels\n",
    "\n",
    "vowel_pattern = re.compile('^[aeiou]', re.IGNORECASE)\n",
    "sorted_fruits = sorted(fruits, key=lambda x: 1 if vowel_pattern.match(x) else 0)\n",
    "sorted_fruits"
   ]
  },
  {
   "cell_type": "code",
   "execution_count": null,
   "id": "f2707c6b",
   "metadata": {},
   "outputs": [],
   "source": []
  },
  {
   "cell_type": "code",
   "execution_count": null,
   "id": "a0802872",
   "metadata": {},
   "outputs": [],
   "source": []
  }
 ],
 "metadata": {
  "kernelspec": {
   "display_name": "Python 3 (ipykernel)",
   "language": "python",
   "name": "python3"
  },
  "language_info": {
   "codemirror_mode": {
    "name": "ipython",
    "version": 3
   },
   "file_extension": ".py",
   "mimetype": "text/x-python",
   "name": "python",
   "nbconvert_exporter": "python",
   "pygments_lexer": "ipython3",
   "version": "3.9.13"
  }
 },
 "nbformat": 4,
 "nbformat_minor": 5
}
