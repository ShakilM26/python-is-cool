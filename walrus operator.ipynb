{
 "cells": [
  {
   "cell_type": "code",
   "execution_count": 2,
   "id": "51b51407",
   "metadata": {},
   "outputs": [],
   "source": [
    "# :=\n",
    "# we know it as Assignment Expresssion or walrus operator \n"
   ]
  },
  {
   "cell_type": "code",
   "execution_count": 3,
   "id": "87bbc249",
   "metadata": {},
   "outputs": [
    {
     "name": "stdout",
     "output_type": "stream",
     "text": [
      "Hobbiton\n"
     ]
    }
   ],
   "source": [
    "Hobbit = 'Hobbiton'\n",
    "print(Hobbit)"
   ]
  },
  {
   "cell_type": "code",
   "execution_count": 5,
   "id": "68213d95",
   "metadata": {},
   "outputs": [
    {
     "name": "stdout",
     "output_type": "stream",
     "text": [
      "Hobbiton\n"
     ]
    }
   ],
   "source": [
    "print(Hobbit := 'Hobbiton')"
   ]
  },
  {
   "cell_type": "code",
   "execution_count": null,
   "id": "49def30a",
   "metadata": {},
   "outputs": [],
   "source": []
  },
  {
   "cell_type": "code",
   "execution_count": 6,
   "id": "950ce36f",
   "metadata": {},
   "outputs": [
    {
     "name": "stdout",
     "output_type": "stream",
     "text": [
      "favorite movie list: The Shawshank Redemption\n",
      "favorite movie list: The Bucket List\n",
      "favorite movie list: Inception\n",
      "favorite movie list: 12 Angry Man\n",
      "favorite movie list: Wall-E\n",
      "favorite movie list: Big Hero 6\n",
      "favorite movie list: quit\n"
     ]
    }
   ],
   "source": [
    "# Loop with walrus \n",
    "\n",
    "movies = list()\n",
    "\n",
    "while True:\n",
    "    movie = input('favorite movie list: ')\n",
    "    if movie == 'quit':\n",
    "        break\n",
    "    movies.append(movie)"
   ]
  },
  {
   "cell_type": "code",
   "execution_count": 7,
   "id": "8dec11b4",
   "metadata": {},
   "outputs": [
    {
     "name": "stdout",
     "output_type": "stream",
     "text": [
      "['The Shawshank Redemption', 'The Bucket List', 'Inception', '12 Angry Man', 'Wall-E', 'Big Hero 6']\n"
     ]
    }
   ],
   "source": [
    "print(movies)"
   ]
  },
  {
   "cell_type": "code",
   "execution_count": null,
   "id": "c6145dc5",
   "metadata": {},
   "outputs": [],
   "source": []
  }
 ],
 "metadata": {
  "kernelspec": {
   "display_name": "Python 3 (ipykernel)",
   "language": "python",
   "name": "python3"
  },
  "language_info": {
   "codemirror_mode": {
    "name": "ipython",
    "version": 3
   },
   "file_extension": ".py",
   "mimetype": "text/x-python",
   "name": "python",
   "nbconvert_exporter": "python",
   "pygments_lexer": "ipython3",
   "version": "3.9.13"
  }
 },
 "nbformat": 4,
 "nbformat_minor": 5
}
