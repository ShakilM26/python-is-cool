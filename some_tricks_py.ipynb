{
  "nbformat": 4,
  "nbformat_minor": 0,
  "metadata": {
    "colab": {
      "name": "some_tricks.py",
      "provenance": [],
      "collapsed_sections": [],
      "authorship_tag": "ABX9TyMPXwwNZb5CsUf8HjlJjC8y",
      "include_colab_link": true
    },
    "kernelspec": {
      "name": "python3",
      "display_name": "Python 3"
    },
    "language_info": {
      "name": "python"
    }
  },
  "cells": [
    {
      "cell_type": "markdown",
      "metadata": {
        "id": "view-in-github",
        "colab_type": "text"
      },
      "source": [
        "<a href=\"https://colab.research.google.com/github/ShakilM26/python-is-cool/blob/main/some_tricks_py.ipynb\" target=\"_parent\"><img src=\"https://colab.research.google.com/assets/colab-badge.svg\" alt=\"Open In Colab\"/></a>"
      ]
    },
    {
      "cell_type": "code",
      "execution_count": 1,
      "metadata": {
        "id": "gJE0Ao-saYsq",
        "colab": {
          "base_uri": "https://localhost:8080/"
        },
        "outputId": "89f7525a-9ddc-4135-887e-8691f0376a4f"
      },
      "outputs": [
        {
          "output_type": "stream",
          "name": "stdout",
          "text": [
            "Peter : Data Scientist\n",
            "Olivia : ML Engineer\n",
            "Max : Web Developer\n"
          ]
        }
      ],
      "source": [
        "# Zip in Python\n",
        "\n",
        "a=['Peter', 'Olivia', 'Max']\n",
        "b=['Data Scientist', 'ML Engineer', 'Web Developer']\n",
        "\n",
        "for a,b in zip(a,b):\n",
        "  print(a, ':', b)"
      ]
    },
    {
      "cell_type": "code",
      "source": [
        "a=['Erin', 'Steve', 'Stephen', 'Jennifer', 'Bruce', 'Sarah']\n",
        "b=['Female', 'Male', 'Male', 'Female', 'Male', 'Female']\n",
        "c=[50000, 60000, 62000, 50000, 65000, 48000]\n",
        "\n",
        "# Now zip this 3 variables\n",
        "\n",
        "zip_it = zip(a, b, c)\n",
        "output = list(zip_it)\n",
        "output"
      ],
      "metadata": {
        "colab": {
          "base_uri": "https://localhost:8080/"
        },
        "id": "F6H8Yo-9xrzv",
        "outputId": "4a6cbd54-837c-4505-ef64-1408b2ba1f03"
      },
      "execution_count": 8,
      "outputs": [
        {
          "output_type": "execute_result",
          "data": {
            "text/plain": [
              "[('Erin', 'Female', 50000),\n",
              " ('Steve', 'Male', 60000),\n",
              " ('Stephen', 'Male', 62000),\n",
              " ('Jennifer', 'Female', 50000),\n",
              " ('Bruce', 'Male', 65000),\n",
              " ('Sarah', 'Female', 48000)]"
            ]
          },
          "metadata": {},
          "execution_count": 8
        }
      ]
    },
    {
      "cell_type": "code",
      "source": [
        "# Now unzip it\n",
        "\n",
        "name,gender,salary = zip(*output)\n",
        "print(name)\n",
        "print(gender)\n",
        "print(salary)"
      ],
      "metadata": {
        "colab": {
          "base_uri": "https://localhost:8080/"
        },
        "id": "tcPPV4dB0hEO",
        "outputId": "2e051fc2-162d-40e2-9aa8-cd23736cd06b"
      },
      "execution_count": 13,
      "outputs": [
        {
          "output_type": "stream",
          "name": "stdout",
          "text": [
            "('Erin', 'Steve', 'Stephen', 'Jennifer', 'Bruce', 'Sarah')\n",
            "('Female', 'Male', 'Male', 'Female', 'Male', 'Female')\n",
            "(50000, 60000, 62000, 50000, 65000, 48000)\n"
          ]
        }
      ]
    },
    {
      "cell_type": "code",
      "source": [
        "# Traversing dictionaries in parallel\n",
        "\n",
        "one={'Name': 'Shakil', 'Job_title': 'Data Scientist', 'City': 'Rajshahi'}\n",
        "two={'Name': 'Belal', 'Job_title': 'ML Engineer', 'City': 'Naogaon'}\n",
        "\n",
        "for (s1, s2), (m1, m2) in zip(one.items(), two.items()):\n",
        "  print(s1, '-', s2)"
      ],
      "metadata": {
        "colab": {
          "base_uri": "https://localhost:8080/"
        },
        "id": "gwHvBb3Tq1BW",
        "outputId": "7fdbc780-b275-4381-c7ba-25883e8f5b94"
      },
      "execution_count": 5,
      "outputs": [
        {
          "output_type": "stream",
          "name": "stdout",
          "text": [
            "('Name', 'Shakil') ('Name', 'Belal')\n",
            "('Job_title', 'Data Scientist') ('Job_title', 'ML Engineer')\n",
            "('City', 'Rajshahi') ('City', 'Naogaon')\n"
          ]
        }
      ]
    },
    {
      "cell_type": "code",
      "source": [
        "# sorting with zip \n",
        "\n",
        "company=['Apple', 'Google', 'Amazon', 'Twitter', 'Microsoft']\n",
        "number=[2, 1, 4, 5, 3]\n",
        "\n",
        "# sorted by letters\n",
        "sort_letter=sorted(list(zip(company, number)))\n",
        "sort_letter\n",
        "\n",
        "# sorted by numbers\n",
        "sort_number=sorted(list(zip(number, company)))\n",
        "sort_number"
      ],
      "metadata": {
        "colab": {
          "base_uri": "https://localhost:8080/"
        },
        "id": "FsHj_2EbrqCy",
        "outputId": "08fbc4c1-4d79-4f36-8e72-b23957389ec3"
      },
      "execution_count": 11,
      "outputs": [
        {
          "output_type": "execute_result",
          "data": {
            "text/plain": [
              "[(1, 'Google'), (2, 'Apple'), (3, 'Microsoft'), (4, 'Amazon'), (5, 'Twitter')]"
            ]
          },
          "metadata": {},
          "execution_count": 11
        }
      ]
    },
    {
      "cell_type": "code",
      "source": [
        "# Calculate in pairs\n",
        "\n",
        "buying=[500, 1000, 2000]\n",
        "sales=[400, 1400, 2150]\n",
        "\n",
        "for s, m in zip(buying, sales):\n",
        "  calculate= m-s\n",
        "  print(f'profile or loss: {calculate}') "
      ],
      "metadata": {
        "colab": {
          "base_uri": "https://localhost:8080/"
        },
        "id": "5wisaPrbsyTs",
        "outputId": "47ea548b-c049-45de-aa69-ca2abbcd116d"
      },
      "execution_count": 12,
      "outputs": [
        {
          "output_type": "stream",
          "name": "stdout",
          "text": [
            "profile or loss: -100\n",
            "profile or loss: 400\n",
            "profile or loss: 150\n"
          ]
        }
      ]
    },
    {
      "cell_type": "code",
      "source": [
        "# building dictionaries \n",
        "\n",
        "keys=['Name', 'Age', 'City', 'Madeup_name']\n",
        "person=['Bruce Wayne', 25, 'Gotham', 'Batman']\n",
        "\n",
        "make_dict=dict(zip(keys, person))\n",
        "make_dict"
      ],
      "metadata": {
        "colab": {
          "base_uri": "https://localhost:8080/"
        },
        "id": "KStD-M7Xt9Lg",
        "outputId": "c2bc7516-3ea3-4212-8c0a-f6dee2907926"
      },
      "execution_count": 19,
      "outputs": [
        {
          "output_type": "execute_result",
          "data": {
            "text/plain": [
              "{'Age': 25, 'City': 'Gotham', 'Madeup_name': 'Batman', 'Name': 'Bruce Wayne'}"
            ]
          },
          "metadata": {},
          "execution_count": 19
        }
      ]
    },
    {
      "cell_type": "code",
      "source": [
        "# Read CSV file \n",
        "\n",
        "import csv\n",
        "\n",
        "with open('file.csv', 'r') as file:\n",
        "  r=csv.reader(file)\n",
        "\n",
        "  for row in r:\n",
        "    print(row)"
      ],
      "metadata": {
        "id": "ZcX6adYNac37",
        "colab": {
          "base_uri": "https://localhost:8080/"
        },
        "outputId": "223a0938-57f0-4937-881a-5f8faa0026af"
      },
      "execution_count": 20,
      "outputs": [
        {
          "output_type": "stream",
          "name": "stdout",
          "text": [
            "['Date', 'Time', 'Day', 'Month', 'Money', 'Things', 'Address', 'Shopper']\n",
            "[]\n",
            "['01/04/2022', '10:10:00', 'Friday', 'April', 'Singara', '15', 'Mirpur2', 'Hotel']\n",
            "['01/04/2022', '21:40:00', 'Friday', 'April', 'Khala', '500', 'Mirpur2', 'Mess']\n",
            "['01/04/2022', '21:10:00', 'Friday', 'April', 'Room', '2300', 'Mirpur2', 'Mess']\n",
            "['01/04/2022', '21:10:00', 'Friday', 'April', 'Service charge', '560', 'Mirpur2', 'Mess']\n",
            "['01/04/2022', '21:10:00', 'Friday', 'April', 'Meal', '1200', 'Mirpur2', 'Mess']\n",
            "['02/04/2022', '10:20:00', 'Saturday', 'April', 'Porata', '20', 'Mirpur2', 'Hotel']\n",
            "['02/04/2022', '18:40:00', 'Saturday', 'April', 'Punjabi', '320', 'Mirpur6', 'Other']\n"
          ]
        }
      ]
    },
    {
      "cell_type": "code",
      "source": [
        "# Extract numbers from text\n",
        "\n",
        "text='slss0sf1ss7fssf5s8s6d4ssfs22dfs9fss1dd'\n",
        "\n",
        "import re\n",
        "find=re.findall('[0-9]', text)\n",
        "print(''.join(find))"
      ],
      "metadata": {
        "colab": {
          "base_uri": "https://localhost:8080/"
        },
        "id": "DVNIalFsap8l",
        "outputId": "2a231460-55b2-4f0b-c937-e1a92c7cf2dd"
      },
      "execution_count": null,
      "outputs": [
        {
          "output_type": "stream",
          "name": "stdout",
          "text": [
            "01758642291\n"
          ]
        }
      ]
    },
    {
      "cell_type": "code",
      "source": [
        ""
      ],
      "metadata": {
        "id": "Z4B5imZIap_d"
      },
      "execution_count": null,
      "outputs": []
    },
    {
      "cell_type": "code",
      "source": [
        "# Nested List\n",
        "# When a list takes another list (sublist) as an element, it is called a nested list.\n",
        "# Inside the sublist we can access it's elements \n",
        "\n",
        "element=[1,2,3,4,[5,6,8,9]]\n",
        "print(element[3])\n",
        "print(element[4])\n",
        "print(element[4][3])"
      ],
      "metadata": {
        "id": "Am0-1CK4aqCm",
        "colab": {
          "base_uri": "https://localhost:8080/"
        },
        "outputId": "90d5dc81-0daf-459d-f788-e750e308b0d8"
      },
      "execution_count": 23,
      "outputs": [
        {
          "output_type": "stream",
          "name": "stdout",
          "text": [
            "4\n",
            "[5, 6, 8, 9]\n",
            "9\n"
          ]
        }
      ]
    },
    {
      "cell_type": "code",
      "source": [
        ""
      ],
      "metadata": {
        "id": "-sGu7WXyaqFP"
      },
      "execution_count": null,
      "outputs": []
    },
    {
      "cell_type": "code",
      "source": [
        ""
      ],
      "metadata": {
        "id": "s3Hz-aWodZj_"
      },
      "execution_count": null,
      "outputs": []
    },
    {
      "cell_type": "code",
      "source": [
        ""
      ],
      "metadata": {
        "id": "CX-4VjyBaqIg"
      },
      "execution_count": null,
      "outputs": []
    },
    {
      "cell_type": "code",
      "source": [
        ""
      ],
      "metadata": {
        "id": "SfAYxD0DaqLJ"
      },
      "execution_count": null,
      "outputs": []
    },
    {
      "cell_type": "code",
      "source": [
        ""
      ],
      "metadata": {
        "id": "n8vsRgOZaqNv"
      },
      "execution_count": null,
      "outputs": []
    }
  ]
}