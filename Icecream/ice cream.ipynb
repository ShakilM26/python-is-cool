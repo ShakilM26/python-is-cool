{
 "cells": [
  {
   "cell_type": "code",
   "execution_count": null,
   "id": "87c7d6fc",
   "metadata": {},
   "outputs": [],
   "source": []
  },
  {
   "cell_type": "markdown",
   "id": "3fefe3ae",
   "metadata": {},
   "source": [
    "### I need to keep track of the code and variables if many variables are printed at the same time. \n",
    "### To understand which variable is the output.\n"
   ]
  },
  {
   "cell_type": "code",
   "execution_count": 21,
   "id": "b305c6b2",
   "metadata": {},
   "outputs": [
    {
     "name": "stdout",
     "output_type": "stream",
     "text": [
      "100\n",
      "1000\n",
      "100000\n",
      "1000000\n"
     ]
    }
   ],
   "source": [
    "hundred = 100\n",
    "thousand = 1000\n",
    "lakhs = 100000\n",
    "million = 1000000\n",
    "\n",
    "print(hundred)\n",
    "print(thousand)\n",
    "print(lakhs)\n",
    "print(million)"
   ]
  },
  {
   "cell_type": "code",
   "execution_count": null,
   "id": "e05b3e71",
   "metadata": {},
   "outputs": [],
   "source": []
  },
  {
   "cell_type": "markdown",
   "id": "5aef24d8",
   "metadata": {},
   "source": [
    "### Sometimes, the programmer might also be interested in printing the line number, the name of the function and its input, etc. Then we have a great solution."
   ]
  },
  {
   "cell_type": "code",
   "execution_count": null,
   "id": "db8d8029",
   "metadata": {},
   "outputs": [],
   "source": []
  },
  {
   "cell_type": "markdown",
   "id": "b27ec2e3",
   "metadata": {},
   "source": [
    "### IceCream is a Python library that makes debugging effortless and readable with minimal code.\n",
    "\n",
    "### Its popular features include printing expressions, variable names, function names, line numbers, filenames, and many more.\n",
    "\n",
    "### It prints the name of the method (func), the argument passed () and the output ()."
   ]
  },
  {
   "cell_type": "code",
   "execution_count": null,
   "id": "51d7bfa8",
   "metadata": {},
   "outputs": [],
   "source": []
  },
  {
   "cell_type": "code",
   "execution_count": 22,
   "id": "ca384c9f",
   "metadata": {},
   "outputs": [],
   "source": [
    "from icecream import ic"
   ]
  },
  {
   "cell_type": "code",
   "execution_count": 23,
   "id": "8edbebbc",
   "metadata": {},
   "outputs": [
    {
     "name": "stderr",
     "output_type": "stream",
     "text": [
      "ic new prefix| ->hundred: 100\n",
      "ic new prefix| ->thousand: 1000\n",
      "ic new prefix| ->lakhs: 100000\n",
      "ic new prefix| ->million: 1000000\n"
     ]
    },
    {
     "data": {
      "text/plain": [
       "1000000"
      ]
     },
     "execution_count": 23,
     "metadata": {},
     "output_type": "execute_result"
    }
   ],
   "source": [
    "hundred = 100\n",
    "thousand = 1000\n",
    "lakhs = 100000\n",
    "million = 1000000\n",
    "\n",
    "ic(hundred)\n",
    "ic(thousand)\n",
    "ic(lakhs)\n",
    "ic(million)"
   ]
  },
  {
   "cell_type": "code",
   "execution_count": 24,
   "id": "0359bf1a",
   "metadata": {},
   "outputs": [
    {
     "name": "stderr",
     "output_type": "stream",
     "text": [
      "ic new prefix| ->func(5): 50\n"
     ]
    },
    {
     "data": {
      "text/plain": [
       "50"
      ]
     },
     "execution_count": 24,
     "metadata": {},
     "output_type": "execute_result"
    }
   ],
   "source": [
    "def func(num):\n",
    "    return num * 10\n",
    "\n",
    "ic(func(5))"
   ]
  },
  {
   "cell_type": "markdown",
   "id": "58c02ba2",
   "metadata": {},
   "source": [
    "### Every expression that goes in the ic() method gets printed along with the value of the expression"
   ]
  },
  {
   "cell_type": "code",
   "execution_count": 25,
   "id": "3ff1d4e2",
   "metadata": {},
   "outputs": [],
   "source": [
    "def func(input_num):\n",
    "    if input_num == 1:\n",
    "        print(\"If Executed!\")\n",
    "\n",
    "\n",
    "    else:\n",
    "        print(\"Else Executed!\")"
   ]
  },
  {
   "cell_type": "code",
   "execution_count": 26,
   "id": "439f2559",
   "metadata": {},
   "outputs": [
    {
     "name": "stdout",
     "output_type": "stream",
     "text": [
      "Else Executed!\n"
     ]
    }
   ],
   "source": [
    "func(2)"
   ]
  },
  {
   "cell_type": "code",
   "execution_count": 27,
   "id": "af1dc695",
   "metadata": {},
   "outputs": [
    {
     "name": "stderr",
     "output_type": "stream",
     "text": [
      "ic new prefix| ->2288858634.py:7 in func() at 21:38:04.638\n"
     ]
    }
   ],
   "source": [
    "def func(input_num):\n",
    "    if input_num == 1:\n",
    "        ic()\n",
    "        ...\n",
    "\n",
    "    else:\n",
    "        ic()\n",
    "\n",
    "func(2)"
   ]
  },
  {
   "cell_type": "code",
   "execution_count": 28,
   "id": "334b62a9",
   "metadata": {},
   "outputs": [
    {
     "name": "stderr",
     "output_type": "stream",
     "text": [
      "ic new prefix| ->dictio['B']: 20\n"
     ]
    },
    {
     "data": {
      "text/plain": [
       "20"
      ]
     },
     "execution_count": 28,
     "metadata": {},
     "output_type": "execute_result"
    }
   ],
   "source": [
    "# with dictionary\n",
    "\n",
    "dictio = {'A':10, 'B':20, 'C':40}\n",
    "\n",
    "ic(dictio['B'])"
   ]
  },
  {
   "cell_type": "markdown",
   "id": "c20de8e6",
   "metadata": {},
   "source": [
    "### Just call ic() and you're done. It will print the file name, line number, and other details (like function name, if any) and the time"
   ]
  },
  {
   "cell_type": "code",
   "execution_count": null,
   "id": "7032e689",
   "metadata": {},
   "outputs": [],
   "source": []
  },
  {
   "cell_type": "markdown",
   "id": "1275e0d9",
   "metadata": {},
   "source": [
    "### we noticed that icecream provide a custom prefix in output statements     ' ic| ' \n",
    "### if we want to replace this custom prefix then ..."
   ]
  },
  {
   "cell_type": "code",
   "execution_count": 29,
   "id": "6ad4bf47",
   "metadata": {},
   "outputs": [
    {
     "name": "stderr",
     "output_type": "stream",
     "text": [
      "ic new prefix| ->'I love Icecream'\n"
     ]
    },
    {
     "data": {
      "text/plain": [
       "'I love Icecream'"
      ]
     },
     "execution_count": 29,
     "metadata": {},
     "output_type": "execute_result"
    }
   ],
   "source": [
    "ic.configureOutput(prefix = 'ic new prefix| ->')\n",
    "ic('I love Icecream')"
   ]
  },
  {
   "cell_type": "code",
   "execution_count": null,
   "id": "2389b687",
   "metadata": {},
   "outputs": [],
   "source": []
  },
  {
   "cell_type": "code",
   "execution_count": null,
   "id": "127cb4b6",
   "metadata": {},
   "outputs": [],
   "source": []
  },
  {
   "cell_type": "code",
   "execution_count": null,
   "id": "387d6ea0",
   "metadata": {},
   "outputs": [],
   "source": []
  }
 ],
 "metadata": {
  "kernelspec": {
   "display_name": "Python 3 (ipykernel)",
   "language": "python",
   "name": "python3"
  },
  "language_info": {
   "codemirror_mode": {
    "name": "ipython",
    "version": 3
   },
   "file_extension": ".py",
   "mimetype": "text/x-python",
   "name": "python",
   "nbconvert_exporter": "python",
   "pygments_lexer": "ipython3",
   "version": "3.9.13"
  }
 },
 "nbformat": 4,
 "nbformat_minor": 5
}
