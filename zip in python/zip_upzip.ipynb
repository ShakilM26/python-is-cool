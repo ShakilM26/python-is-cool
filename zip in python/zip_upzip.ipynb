{
 "cells": [
  {
   "cell_type": "markdown",
   "id": "340076a9",
   "metadata": {},
   "source": [
    "### zip two iterables"
   ]
  },
  {
   "cell_type": "code",
   "execution_count": 20,
   "id": "1111a086",
   "metadata": {},
   "outputs": [
    {
     "name": "stdout",
     "output_type": "stream",
     "text": [
      "[('Ozil', 1, 'Germany'), ('Benzema', 2, 'France'), ('Mane', 4, 'Senegal'), ('Kante', 3, 'France'), ('Salah', 5, 'Egypt')]\n"
     ]
    }
   ],
   "source": [
    "names = ['Ozil', 'Benzema', 'Mane', 'Kante', 'Salah']\n",
    "rank = [1,2,4,3,5]\n",
    "country = ['Germany','France','Senegal','France','Egypt']\n",
    "\n",
    "using_zip = list(zip(names,rank,country))\n",
    "print(using_zip)"
   ]
  },
  {
   "cell_type": "markdown",
   "id": "6e1886da",
   "metadata": {},
   "source": [
    "### now unzip them"
   ]
  },
  {
   "cell_type": "code",
   "execution_count": 21,
   "id": "9d00ce05",
   "metadata": {},
   "outputs": [
    {
     "name": "stdout",
     "output_type": "stream",
     "text": [
      "('Ozil', 'Benzema', 'Mane', 'Kante', 'Salah')\n"
     ]
    }
   ],
   "source": [
    "names, rank, country = zip(*using_zip)\n",
    "print(names)"
   ]
  },
  {
   "cell_type": "markdown",
   "id": "08de1652",
   "metadata": {},
   "source": [
    "### we can make them more beautiful"
   ]
  },
  {
   "cell_type": "code",
   "execution_count": 22,
   "id": "334956c1",
   "metadata": {},
   "outputs": [
    {
     "name": "stdout",
     "output_type": "stream",
     "text": [
      "Players: Ozil Fifa_rank: 1 Country: Germany\n",
      "Players: Benzema Fifa_rank: 2 Country: France\n",
      "Players: Mane Fifa_rank: 4 Country: Senegal\n",
      "Players: Kante Fifa_rank: 3 Country: France\n",
      "Players: Salah Fifa_rank: 5 Country: Egypt\n"
     ]
    }
   ],
   "source": [
    "# we can change the actual name\n",
    "\n",
    "for players, fifa_rank, country in zip(names, rank, country):\n",
    "    print('Players:', players, 'Fifa_rank:', fifa_rank, 'Country:', country)"
   ]
  },
  {
   "cell_type": "code",
   "execution_count": 24,
   "id": "f14c75bd",
   "metadata": {},
   "outputs": [
    {
     "name": "stdout",
     "output_type": "stream",
     "text": [
      "[(0, 0), (1, 1), (2, 2), (3, 3), (4, 4)]\n"
     ]
    }
   ],
   "source": [
    "# what if unequal length\n",
    "\n",
    "print(list(zip(range(5), range(10)))) "
   ]
  },
  {
   "cell_type": "code",
   "execution_count": null,
   "id": "868d5f9e",
   "metadata": {},
   "outputs": [],
   "source": []
  },
  {
   "cell_type": "markdown",
   "id": "0de2a01f",
   "metadata": {},
   "source": [
    "### if unmatched values important for you then you can use itertools.zip_longest() instead of zip(). \n",
    "### Missing value will be replaced with whatever you pass to the fillvalue argument."
   ]
  },
  {
   "cell_type": "code",
   "execution_count": 30,
   "id": "cbe2d118",
   "metadata": {},
   "outputs": [
    {
     "name": "stdout",
     "output_type": "stream",
     "text": [
      "[('cat', 4, 0), ('bird', 1, 1), ('tortoise', 2, 2), ('owl', 'owl', 3), ('owl', 'owl', 4)]\n"
     ]
    }
   ],
   "source": [
    "from itertools import zip_longest\n",
    "\n",
    "animal = ['cat', 'bird', 'tortoise']\n",
    "age = [4, 1, 2]\n",
    "ranges = range(5)\n",
    "\n",
    "using_ziplongest = zip_longest(animal, age, ranges, fillvalue='owl')\n",
    "print(list(using_ziplongest))"
   ]
  },
  {
   "cell_type": "markdown",
   "id": "136b5dae",
   "metadata": {},
   "source": [
    "### Traversing lists in parallel"
   ]
  },
  {
   "cell_type": "code",
   "execution_count": 31,
   "id": "b8897db4",
   "metadata": {},
   "outputs": [
    {
     "name": "stdout",
     "output_type": "stream",
     "text": [
      "Company name: Google\n",
      "Owner: Sergei Brinn & Larry Page\n",
      "Company name: Microsoft\n",
      "Owner: Bill Gates\n",
      "Company name: Facebook\n",
      "Owner: Mark Zuckerburg\n",
      "Company name: Space-X\n",
      "Owner: Elon Musk\n"
     ]
    }
   ],
   "source": [
    "company = ['Google', 'Microsoft', 'Facebook', 'Space-X']\n",
    "owner = ['Sergei Brinn & Larry Page', 'Bill Gates', 'Mark Zuckerburg', 'Elon Musk']\n",
    "\n",
    "for com, ow in zip(company, owner):\n",
    "    print(f'Company name: {com}')\n",
    "    print(f'Owner: {ow}')"
   ]
  },
  {
   "cell_type": "markdown",
   "id": "e6d6f828",
   "metadata": {},
   "source": [
    "### Traversing dictionaries in parallel"
   ]
  },
  {
   "cell_type": "code",
   "execution_count": 38,
   "id": "69343ff4",
   "metadata": {},
   "outputs": [
    {
     "name": "stdout",
     "output_type": "stream",
     "text": [
      "name - name\n",
      "Shakil - mou\n",
      "age - age\n",
      "26 - 25\n",
      "city - city\n",
      "Rajshahi - Rajshahi\n"
     ]
    }
   ],
   "source": [
    "shakil_info = {'name':'Shakil', 'age': 26, 'city':'Rajshahi'}\n",
    "mou_info = {'name':'mou', 'age': 25, 'city':'Rajshahi'}\n",
    "\n",
    "for (s,m), (s1,m1) in zip(shakil_info.items(), mou_info.items()):\n",
    "    print(s, '-', s1)\n",
    "    print(m, '-', m1)"
   ]
  },
  {
   "cell_type": "code",
   "execution_count": null,
   "id": "8a99e014",
   "metadata": {},
   "outputs": [],
   "source": []
  },
  {
   "cell_type": "markdown",
   "id": "abd29605",
   "metadata": {},
   "source": [
    "### sorting in parallel"
   ]
  },
  {
   "cell_type": "code",
   "execution_count": 43,
   "id": "4d8f3737",
   "metadata": {},
   "outputs": [
    {
     "name": "stdout",
     "output_type": "stream",
     "text": [
      "[('Cristiano Ronaldo', 7), ('Lionel Messi', 10), ('Ronaldo Nazario', 9), ('Zidane', 5)]\n",
      "[(5, 'Zidane'), (7, 'Cristiano Ronaldo'), (9, 'Ronaldo Nazario'), (10, 'Lionel Messi')]\n"
     ]
    }
   ],
   "source": [
    "names = ['Zidane', 'Ronaldo Nazario', 'Cristiano Ronaldo', 'Lionel Messi']\n",
    "jersey_no = [5, 9, 7, 10]\n",
    "\n",
    "#sort_by_letters\n",
    "by_letters = sorted(list(zip(names, jersey_no)))\n",
    "print(by_letters)\n",
    "\n",
    "#sort_by_numbers\n",
    "by_numbers = sorted(list(zip(jersey_no, names)))\n",
    "print(by_numbers)"
   ]
  },
  {
   "cell_type": "code",
   "execution_count": null,
   "id": "7207fc7e",
   "metadata": {},
   "outputs": [],
   "source": []
  },
  {
   "cell_type": "code",
   "execution_count": null,
   "id": "3c1aa1a2",
   "metadata": {},
   "outputs": [],
   "source": []
  },
  {
   "cell_type": "code",
   "execution_count": null,
   "id": "b12cf01a",
   "metadata": {},
   "outputs": [],
   "source": []
  },
  {
   "cell_type": "code",
   "execution_count": null,
   "id": "d52a9d79",
   "metadata": {},
   "outputs": [],
   "source": []
  },
  {
   "cell_type": "code",
   "execution_count": null,
   "id": "528858d7",
   "metadata": {},
   "outputs": [],
   "source": []
  },
  {
   "cell_type": "code",
   "execution_count": null,
   "id": "a8b71f71",
   "metadata": {},
   "outputs": [],
   "source": []
  }
 ],
 "metadata": {
  "kernelspec": {
   "display_name": "Python 3 (ipykernel)",
   "language": "python",
   "name": "python3"
  },
  "language_info": {
   "codemirror_mode": {
    "name": "ipython",
    "version": 3
   },
   "file_extension": ".py",
   "mimetype": "text/x-python",
   "name": "python",
   "nbconvert_exporter": "python",
   "pygments_lexer": "ipython3",
   "version": "3.9.13"
  }
 },
 "nbformat": 4,
 "nbformat_minor": 5
}
