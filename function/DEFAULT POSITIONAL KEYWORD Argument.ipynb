{
 "cells": [
  {
   "cell_type": "markdown",
   "id": "3fa14f26",
   "metadata": {},
   "source": [
    "## Positional Arguments\n",
    "### Here, the order in which arguments are passed matters."
   ]
  },
  {
   "cell_type": "code",
   "execution_count": 4,
   "id": "b187df2b",
   "metadata": {},
   "outputs": [
    {
     "name": "stdout",
     "output_type": "stream",
     "text": [
      "Shakil\n",
      "10\n"
     ]
    }
   ],
   "source": [
    "def person(name,id):\n",
    "    print(name)\n",
    "    print(id)\n",
    "person('Shakil',10)"
   ]
  },
  {
   "cell_type": "markdown",
   "id": "b955397d",
   "metadata": {},
   "source": [
    "## Keyword Arguments\n",
    "### Here, the order of function arguments doesn’t really matter. You can assign the parameters that you want to pass to the respective keyword arguments."
   ]
  },
  {
   "cell_type": "code",
   "execution_count": 2,
   "id": "ecc0e943",
   "metadata": {},
   "outputs": [
    {
     "name": "stdout",
     "output_type": "stream",
     "text": [
      "Shakil\n",
      "20\n"
     ]
    }
   ],
   "source": [
    "def person(name,id):\n",
    "    print(name)\n",
    "    print(id)\n",
    "person(id=20, name='Shakil')"
   ]
  },
  {
   "cell_type": "markdown",
   "id": "d977ed5b",
   "metadata": {},
   "source": [
    "## Default Arguments\n",
    "### If there is a default value for the arguments, then it is not mandatory to pass that parameter while calling the function."
   ]
  },
  {
   "cell_type": "code",
   "execution_count": 7,
   "id": "a932f3c8",
   "metadata": {},
   "outputs": [
    {
     "name": "stdout",
     "output_type": "stream",
     "text": [
      "Shakil\n",
      "20\n"
     ]
    }
   ],
   "source": [
    "def person(name,id=20):\n",
    "    print(name)\n",
    "    print(id)\n",
    "person('Shakil')"
   ]
  },
  {
   "cell_type": "code",
   "execution_count": null,
   "id": "55f5698b",
   "metadata": {},
   "outputs": [],
   "source": []
  },
  {
   "cell_type": "code",
   "execution_count": 6,
   "id": "62e3e8cc",
   "metadata": {},
   "outputs": [
    {
     "name": "stdout",
     "output_type": "stream",
     "text": [
      "Shakil\n",
      "30\n"
     ]
    }
   ],
   "source": [
    "def person(name,id=20):\n",
    "    print(name)\n",
    "    print(id)\n",
    "person('Shakil',30)"
   ]
  },
  {
   "cell_type": "markdown",
   "id": "0ddf9ea1",
   "metadata": {},
   "source": [
    "## Optional Arguments\n",
    "### Here, passing the parameter becomes optional."
   ]
  },
  {
   "cell_type": "code",
   "execution_count": 9,
   "id": "04fb9f7c",
   "metadata": {},
   "outputs": [
    {
     "name": "stdout",
     "output_type": "stream",
     "text": [
      "Shakil Data Engineer Google\n"
     ]
    }
   ],
   "source": [
    "def person(name, job, company='Google'):\n",
    "    print(name,job,company)\n",
    "\n",
    "person('Shakil','Data Engineer')"
   ]
  },
  {
   "cell_type": "code",
   "execution_count": 10,
   "id": "8952e4a0",
   "metadata": {},
   "outputs": [
    {
     "name": "stdout",
     "output_type": "stream",
     "text": [
      "Shakil Data Engineer Space-X\n"
     ]
    }
   ],
   "source": [
    "def person(name, job, company='Google'):\n",
    "    print(name,job,company)\n",
    "\n",
    "person('Shakil','Data Engineer','Space-X')"
   ]
  },
  {
   "cell_type": "code",
   "execution_count": null,
   "id": "3b2cc60d",
   "metadata": {},
   "outputs": [],
   "source": []
  }
 ],
 "metadata": {
  "kernelspec": {
   "display_name": "Python 3 (ipykernel)",
   "language": "python",
   "name": "python3"
  },
  "language_info": {
   "codemirror_mode": {
    "name": "ipython",
    "version": 3
   },
   "file_extension": ".py",
   "mimetype": "text/x-python",
   "name": "python",
   "nbconvert_exporter": "python",
   "pygments_lexer": "ipython3",
   "version": "3.10.9"
  }
 },
 "nbformat": 4,
 "nbformat_minor": 5
}
