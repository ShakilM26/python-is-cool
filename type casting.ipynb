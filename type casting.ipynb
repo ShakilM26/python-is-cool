{
 "cells": [
  {
   "cell_type": "code",
   "execution_count": 1,
   "id": "8768cb67",
   "metadata": {},
   "outputs": [],
   "source": [
    "# Type Casting means convert the data type of a value to \n",
    "# another data type."
   ]
  },
  {
   "cell_type": "code",
   "execution_count": 9,
   "id": "a2472f54",
   "metadata": {},
   "outputs": [
    {
     "name": "stdout",
     "output_type": "stream",
     "text": [
      "4.0\n",
      "<class 'float'>\n",
      "5\n",
      "<class 'int'>\n"
     ]
    }
   ],
   "source": [
    "# integer to float || float to integer\n",
    "\n",
    "i = 4    # int\n",
    "f = 5.0  # float\n",
    "\n",
    "# int to float\n",
    "i = float(i) # it will be a permanent change\n",
    "\n",
    "print(i)\n",
    "print(type(i))\n",
    "\n",
    "\n",
    "# float to int\n",
    "f = int(f) # permanent change\n",
    "\n",
    "print(f)\n",
    "print(type(f))"
   ]
  },
  {
   "cell_type": "code",
   "execution_count": 13,
   "id": "e770b54b",
   "metadata": {},
   "outputs": [
    {
     "name": "stdout",
     "output_type": "stream",
     "text": [
      "<class 'int'>\n",
      "30\n"
     ]
    }
   ],
   "source": [
    "# string to integer\n",
    "\n",
    "string = '10'\n",
    "\n",
    "string = int(string)\n",
    "print(type(string))\n",
    "print(string*3)"
   ]
  },
  {
   "cell_type": "code",
   "execution_count": 14,
   "id": "85f04b49",
   "metadata": {},
   "outputs": [
    {
     "ename": "TypeError",
     "evalue": "can only concatenate str (not \"int\") to str",
     "output_type": "error",
     "traceback": [
      "\u001b[1;31m---------------------------------------------------------------------------\u001b[0m",
      "\u001b[1;31mTypeError\u001b[0m                                 Traceback (most recent call last)",
      "\u001b[1;32m~\\AppData\\Local\\Temp\\ipykernel_10952\\1723700484.py\u001b[0m in \u001b[0;36m<module>\u001b[1;34m\u001b[0m\n\u001b[0;32m      4\u001b[0m \u001b[0mten\u001b[0m \u001b[1;33m=\u001b[0m \u001b[1;36m10\u001b[0m\u001b[1;33m\u001b[0m\u001b[1;33m\u001b[0m\u001b[0m\n\u001b[0;32m      5\u001b[0m \u001b[1;33m\u001b[0m\u001b[0m\n\u001b[1;32m----> 6\u001b[1;33m \u001b[0mprint\u001b[0m\u001b[1;33m(\u001b[0m\u001b[1;34m'Ten means'\u001b[0m \u001b[1;33m+\u001b[0m \u001b[0mten\u001b[0m\u001b[1;33m)\u001b[0m\u001b[1;33m\u001b[0m\u001b[1;33m\u001b[0m\u001b[0m\n\u001b[0m",
      "\u001b[1;31mTypeError\u001b[0m: can only concatenate str (not \"int\") to str"
     ]
    }
   ],
   "source": [
    "# concatenation\n",
    "# when do we convert int to string ? \n",
    "\n",
    "ten = 10\n",
    "\n",
    "print('Ten means' + ten)"
   ]
  },
  {
   "cell_type": "code",
   "execution_count": 17,
   "id": "bfa43fbe",
   "metadata": {},
   "outputs": [
    {
     "name": "stdout",
     "output_type": "stream",
     "text": [
      "Ten means 10\n"
     ]
    }
   ],
   "source": [
    "ten = str(ten)\n",
    "\n",
    "type(ten)\n",
    "print('Ten means '+ten)"
   ]
  },
  {
   "cell_type": "code",
   "execution_count": null,
   "id": "35827ccc",
   "metadata": {},
   "outputs": [],
   "source": [
    "\n"
   ]
  }
 ],
 "metadata": {
  "kernelspec": {
   "display_name": "Python 3 (ipykernel)",
   "language": "python",
   "name": "python3"
  },
  "language_info": {
   "codemirror_mode": {
    "name": "ipython",
    "version": 3
   },
   "file_extension": ".py",
   "mimetype": "text/x-python",
   "name": "python",
   "nbconvert_exporter": "python",
   "pygments_lexer": "ipython3",
   "version": "3.9.13"
  }
 },
 "nbformat": 4,
 "nbformat_minor": 5
}
